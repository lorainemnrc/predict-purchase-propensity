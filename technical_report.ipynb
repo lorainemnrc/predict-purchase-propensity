{
 "cells": [
  {
   "cell_type": "code",
   "execution_count": 1,
   "id": "ce98d198",
   "metadata": {
    "ExecuteTime": {
     "end_time": "2023-03-20T15:30:13.038794Z",
     "start_time": "2023-03-20T15:30:12.492511Z"
    }
   },
   "outputs": [
    {
     "data": {
      "text/html": [
       "\n",
       "<script src=\"https://cdnjs.cloudflare.com/ajax/libs/jquery/2.0.3/jquery.min.js \"></script><script>code_show=true; \n",
       "function code_toggle() {\n",
       " if (code_show){\n",
       " $('div.jp-CodeCell > div.jp-Cell-inputWrapper').hide();\n",
       " } else {\n",
       "$('div.jp-CodeCell > div.jp-Cell-inputWrapper').show();\n",
       " }\n",
       " code_show = !code_show\n",
       "} \n",
       "$( document ).ready(code_toggle);\n",
       "</script><form action=\"javascript:code_toggle()\"><input type=\"submit\" value=\"Click here to toggle on/off the raw code.\"></form>"
      ],
      "text/plain": [
       "<IPython.core.display.HTML object>"
      ]
     },
     "execution_count": 1,
     "metadata": {},
     "output_type": "execute_result"
    }
   ],
   "source": [
    "import warnings \n",
    "warnings.filterwarnings(\"ignore\")\n",
    "warnings.simplefilter(action='ignore', category=FutureWarning)\n",
    "\n",
    "from warnings import simplefilter\n",
    "from sklearn.exceptions import ConvergenceWarning\n",
    "simplefilter(\"ignore\", category=ConvergenceWarning)\n",
    "\n",
    "from IPython.display import HTML, display, Image\n",
    "HTML('''\n",
    "<script src=\"https://cdnjs.cloudflare.com/ajax/libs/jquery/2.0.3/jquery.min.js \"></script><script>code_show=true; \n",
    "function code_toggle() {\n",
    " if (code_show){\n",
    " $('div.jp-CodeCell > div.jp-Cell-inputWrapper').hide();\n",
    " } else {\n",
    "$('div.jp-CodeCell > div.jp-Cell-inputWrapper').show();\n",
    " }\n",
    " code_show = !code_show\n",
    "} \n",
    "$( document ).ready(code_toggle);\n",
    "</script><form action=\"javascript:code_toggle()\"><input type=\"submit\" value=\"Click here to toggle on/off the raw code.\"></form>''')"
   ]
  },
  {
   "cell_type": "markdown",
   "id": "3990f4cd",
   "metadata": {},
   "source": [
    "<img src='banner.png' height='300'>\n",
    "\n",
    "\n",
    "\n",
    "**MSDS 2023 Term 3 LT9** | Maria Loraine Menorca, Ian Christopher Lucas, Felicismo Lazaro III, Christine Albao, William Benedict Delfin"
   ]
  },
  {
   "cell_type": "markdown",
   "id": "f0cf3d18",
   "metadata": {},
   "source": [
    "***\n",
    "\n",
    "<h1 style=\"color: #1048CB\"><b>I. Executive Summary</b></h1>\n",
    "\n",
    "<p style=\"text-align: justify\"> &emsp;During the pandemic, the Philippine e-commerce industry experienced one of its highest growth rates in recent years [8]. It ballooned into a 17-billion-dollar industry with 73 million active users nationwide. And is still expected to grow by 17% to reach 24 billion dollars by the end of 2025 [7]. While this level of growth looks unstoppable, the e-commerce industry still faces a few problems of their own. <p>\n",
    "\n",
    "<p style=\"text-align: justify\"> &emsp;One of which is customer drop-off rate, or the rate in which a customer session within the e-commerce platform leads to the customer dropping the cart and not pushing through with the sale. On the global scale, only 2.17% of customer visits lead into a sale in 2020. This is supported by the fact that customers tend to abandon their online shopping cart 69.80% of the time [6]. <p>\n",
    "\n",
    "<p style=\"text-align: justify\"> &emsp;A method that monitors this customer drop-off event is the customer’s propensity to purchase [5]. This is a predictive model that uses past behavioral data of a customer and predicts the likelihood of that customer to complete a transaction. In this project, we aim to analyze a customer’s propensity to purchase using machine learning techniques and interpretability methods using customer history, behavior within the website, and possible seasonal factors. <p>\n",
    "\n",
    "<p style=\"text-align: justify\"> &emsp;We started the project by collecting the ecommerce data from the UCI repository. We then performed exploratory data analysis on the data to prepare for the machine learning pipeline. The machine learning pipeline started with the preprocessing technique to be used, in this case we used the RobustScaler for out final machine learning model. Then we used the Random Forest Classifier as the main machine learning model because this returned the highest accuracy among all the tested classifier algorithms. <p>\n",
    "\n",
    "<p style=\"text-align: justify\"> &emsp;After doing the machine learning modeling and predicting, we passed the resulting best model and the dataset through a series of model interpretability techniques, SHAP and DiCE. SHAP analyzes the model and dataset and returns a scale of importance for each feature in the data, while DiCE uses counterfactual explanations to provide a case by case analysis on what one feature can be modified that will change the resulting prediction of the machine learning model. <p>\n",
    "\n",
    "<p style=\"text-align: justify\"> &emsp;Combining these two methods of interpretability allows for a more complete look at how the different features of the dataset interact with each other and how it affects the resulting action of the customer. After running the data through this machine learning predictive and interpretability pipeline, we arrived at the conclusion that there are three main drivers towards a customer’s propensity to purchase, the value of the page visited, the seasonality of customer visits, and the ease of search experienced by the customer. <p>"
   ]
  },
  {
   "attachments": {},
   "cell_type": "markdown",
   "id": "fcf2bc01",
   "metadata": {},
   "source": [
    "***\n",
    "\n",
    "<h1 style=\"color: #1048CB\"><b>II. List of Tables and Figures</b></h1>\n",
    "\n",
    "**Table 1.** Online Shoppers Purchasing Intention - Data Dictionary\n",
    "<br>\n",
    "\n",
    "***\n",
    "\n",
    "**Figure 1.** Target class distribution.\n",
    "<br>\n",
    "**Figure 2.** Distribution of GA features.\n",
    "<br>\n",
    "**Figure 3.** Distribution of Views per Page type.\n",
    "<br>\n",
    "**Figure 4.** Distribution of View duration per Page type.\n",
    "<br>\n",
    "**Figure 5.** Distribution of Other Nominal features.\n",
    "<br>\n",
    "**Figure 6.** Visitor count by day of week.\n",
    "<br>"
   ]
  },
  {
   "cell_type": "markdown",
   "id": "999b9215",
   "metadata": {},
   "source": [
    "***\n",
    "\n",
    "<h1 style=\"color: #1048CB\"><b>III. Problem Statement</b></h1>\n",
    "\n",
    "<p style=\"text-align: justify\"> &emsp;The e-Commerce industry is pegged to be the future of retail in the Philippines given the increased digital adoption in the country due to the pandemic. However, customer drop-offs brought by product complexity and low purchase intent limit a business’ growth potential. While there are already efforts made in tracking and analyzing these drop-offs, knowing which aspect to focus on in the customer journey remains a challenge as there can be many points of exit that should be improved with a limited budget. Using Explainable AI, this project aims to uncover the main purchase decision drivers, and the small changes the business can do that would greatly encourage a customer to stay and proceed to purchase.</p>"
   ]
  },
  {
   "cell_type": "markdown",
   "id": "68f55438",
   "metadata": {},
   "source": [
    "***\n",
    "\n",
    "<h1 style=\"color: #1048CB\"><b>IV. About the Data</b></h1>"
   ]
  },
  {
   "cell_type": "markdown",
   "id": "0e40c9aa",
   "metadata": {},
   "source": [
    "***\n",
    "<h2 style=\"color: #1048CB\"><b>Source</b></h2>\n",
    "\n",
    "&emsp;The data used in this project is sourced from [`UCI's Machine Learning Repository`](https://archive.ics.uci.edu/ml/datasets/Online+Shoppers+Purchasing+Intention+Dataset#), and is about how a visitor navigates through a site and whether the visit resulted to a purchase or not. With 12,330 total sessions, the data includes details such as the visitor profile, value of the pages viewed, seasonality of the visit, ease of search, interest in buying, and web traffic quality. Table 1 provides a brief description of the features in the dataset.\n",
    "\n",
    "\n",
    "<br>\n",
    "<center style=\"font-size:12px;font-style:default;\"><b>Table 1. Online Shoppers Purchasing Intention - Data Dictionary</b></center>\n",
    "\n",
    "|Feature    | Data Type     | Description                                                                           |\n",
    "|:--------------|:-------------|:--------------------------------------------------------------------------------------|\n",
    "|administrative|integer|indicates if the page is an administrative page. 1 if true, otherwise 0\n",
    "|administrative_duration|float|indicates the duration of visit in an administrative page\n",
    "|informational|integer|indicates if the page is an informational page. 1 if true, otherwise 0\n",
    "|informational_duration|float|indicates the duration of visit in an informational page\n",
    "|product_related|integer|indicates if the page is an product page. 1 if true, otherwise 0\n",
    "|product_related_duration|float|indicates the duration of visit in an product page\n",
    "|bounce_rates|float|indicates the bounce rate of a user across page visits\n",
    "|exit_rates|float|indicates the exit rate of a user across page visits\n",
    "|page_values|float|indicates the value of the page based on a google formula\n",
    "|special_day|float|indicates whether the visit was near a speciay day. e.g. a holiday\n",
    "|month|string|tells the month of visit\n",
    "|operating_systems|integer|indicates the type of operating system used to enter the site\n",
    "|browser|integer|indicates the type of browser used to enter the site\n",
    "|region|integer|indicates region of the user\n",
    "|traffic_type|integer|indicates the type of traffic type used to enter the site\n",
    "|visitor_type|string|indicates the type of user visiting the site\n",
    "|weekend|integer|indicates if the site visit happend during a weekend\n",
    "|revenue|integer|indicates whether the site visit resulted into a sale"
   ]
  },
  {
   "cell_type": "markdown",
   "id": "2ea89a98",
   "metadata": {},
   "source": [
    "***\n",
    "\n",
    "<h2 style=\"color: #1048CB\"><b>Interpretation</b></h2>\n",
    "\n",
    "<p style=\"text-align: justify\"> &emsp;Given the lack of clear definition on what constitutes a certain type of page (i.e., what's the scope of an Admin-related or Product-related pages?), the following interpretations were made. Moving forward, this will be the context followed by all analyses and recommendations. </p>\n",
    "\n",
    "1. **Administrative pages**\n",
    "\n",
    "   Pertains to any page related to a visitor's account such as home page, profile info, transaction history, settings (e.g., security, payment options, etc.), or e-wallet.\n",
    "   \n",
    "   \n",
    "2. **Informational pages**\n",
    "\n",
    "   Pertains to any page related to the site's or company information such as Frequently-Asked Questions (FAQs), How-to's, About, or Contact Us page.\n",
    "   \n",
    "\n",
    "3. **Product-related pages**\n",
    "\n",
    "   Pertains to any page related to the product or service being sold such as product catalogue, product ads (from banner or carousel), or product breakdown from the checkout page."
   ]
  },
  {
   "cell_type": "code",
   "execution_count": 2,
   "id": "de8db8e1",
   "metadata": {
    "ExecuteTime": {
     "end_time": "2023-03-20T15:30:16.197045Z",
     "start_time": "2023-03-20T15:30:13.042189Z"
    }
   },
   "outputs": [
    {
     "name": "stderr",
     "output_type": "stream",
     "text": [
      "Matplotlib created a temporary config/cache directory at /tmp/matplotlib-8jz7z0wv because the default path (/home/mmenorca/.cache/matplotlib) is not a writable directory; it is highly recommended to set the MPLCONFIGDIR environment variable to a writable directory, in particular to speed up the import of Matplotlib and to better support multiprocessing.\n"
     ]
    }
   ],
   "source": [
    "# General tools\n",
    "import re\n",
    "import time\n",
    "import numpy as np\n",
    "import pandas as pd\n",
    "from tqdm import tqdm\n",
    "import seaborn as sns\n",
    "import matplotlib.pyplot as plt\n",
    "\n",
    "# Classifiers\n",
    "from sklearn.ensemble import RandomForestClassifier, GradientBoostingClassifier\n",
    "from sklearn.linear_model import LogisticRegression\n",
    "from sklearn.tree import DecisionTreeClassifier\n",
    "from sklearn.svm import LinearSVC\n",
    "\n",
    "# Predictive tools\n",
    "from sklearn.model_selection import train_test_split, StratifiedKFold\n",
    "from sklearn.model_selection import GridSearchCV\n",
    "from sklearn.preprocessing import RobustScaler\n",
    "from sklearn.compose import ColumnTransformer\n",
    "\n",
    "# Metrics\n",
    "from sklearn.metrics import (accuracy_score,\n",
    "                             recall_score, \n",
    "                             precision_score,\n",
    "                             make_scorer)\n",
    "\n",
    "# Resampling\n",
    "from imblearn.over_sampling import SMOTENC, ADASYN\n",
    "from imblearn.pipeline import Pipeline\n",
    "\n",
    "# Post-hoc explainability methods\n",
    "import shap\n",
    "from dice_ml import Model, Dice, Data\n",
    "\n",
    "# Hypothesis testing\n",
    "from scipy import stats\n",
    "\n",
    "\n",
    "# set global plotting parameters\n",
    "custom_sns_params = {'lines.linewidth': 2, 'font.size': 12,\n",
    "                     'axes.titlesize': 14, 'axes.labelsize': 12,\n",
    "                     'xtick.labelsize': 12, 'ytick.labelsize': 12,\n",
    "                     'legend.fontsize': 12, 'legend.fancybox': True,\n",
    "                     'axes.spines.right': False, 'axes.spines.top': False,\n",
    "                     'figure.figsize':(6, 4)}\n",
    "sns.set_theme('notebook', style='ticks', rc=custom_sns_params)\n",
    "colors = ['#000083', '#fca800', '#ed6600', '#fd0fd0', '#f1184e']\n",
    "custom_palette = sns.blend_palette(colors)\n",
    "sns.set_palette(custom_palette)\n",
    "\n",
    "randstate = 143\n",
    "np.random.seed(randstate)\n",
    "\n",
    "# define a global parameter figure counter\n",
    "fig_n = 1\n",
    "def fig_count():\n",
    "    global fig_n\n",
    "    fig_n += 1\n",
    "    return fig_n"
   ]
  },
  {
   "cell_type": "code",
   "execution_count": 3,
   "id": "96ef4a47",
   "metadata": {
    "ExecuteTime": {
     "end_time": "2023-03-20T15:30:16.205291Z",
     "start_time": "2023-03-20T15:30:16.199940Z"
    }
   },
   "outputs": [],
   "source": [
    "def change_case(str):\n",
    "    \"\"\"\n",
    "    Convert camel to snake case.\n",
    "    \"\"\"\n",
    "    s1 = re.sub('(.)([A-Z][a-z]+)', r'\\1\\2', str)\n",
    "    return re.sub('([a-z0-9])([A-Z])', r'\\1_\\2', s1).lower()"
   ]
  },
  {
   "cell_type": "code",
   "execution_count": 4,
   "id": "441e56a3",
   "metadata": {
    "ExecuteTime": {
     "end_time": "2023-03-20T15:30:16.263198Z",
     "start_time": "2023-03-20T15:30:16.209451Z"
    }
   },
   "outputs": [],
   "source": [
    "fname = 'online_shoppers_intention.csv'\n",
    "df = pd.read_csv(fname).rename(columns=lambda x: change_case(x))\n",
    "\n",
    "df['revenue'] = df.revenue.replace({False: 0, True: 1})\n",
    "df['weekend'] = df.weekend.replace({False: 0, True: 1})\n",
    "\n",
    "# Define numerical and categorical features\n",
    "numerical = ['administrative', 'administrative_duration', 'informational',\n",
    "             'informational_duration', 'product_related', 'product_related_duration',\n",
    "             'bounce_rates', 'exit_rates', 'page_values', 'special_day']\n",
    "to_enc = ['month', 'operating_systems', 'browser', 'region',\n",
    "          'traffic_type', 'visitor_type']\n",
    "categorical = list(set(df.columns) - set(numerical))"
   ]
  },
  {
   "cell_type": "markdown",
   "id": "6b4fe0a7",
   "metadata": {},
   "source": [
    "***\n",
    "\n",
    "<h1 style=\"color: #1048CB\"><b>V. Exploratory Data Analysis</b></h1>"
   ]
  },
  {
   "cell_type": "code",
   "execution_count": 5,
   "id": "5e342d21",
   "metadata": {
    "ExecuteTime": {
     "end_time": "2023-03-20T15:30:16.270160Z",
     "start_time": "2023-03-20T15:30:16.265766Z"
    }
   },
   "outputs": [],
   "source": [
    "# Group the categorical features based on what they are about\n",
    "page_rates = ['bounce_rates', 'exit_rates', 'page_values']\n",
    "user_visits = ['administrative', 'informational', 'product_related']\n",
    "page_duration = ['administrative_duration','informational_duration', \n",
    "                 'product_related_duration']\n",
    "user_system = ['month', 'operating_systems', 'browser', 'region',\n",
    "               'traffic_type']\n",
    "indicators = ['visitor_type', 'weekend']"
   ]
  },
  {
   "cell_type": "markdown",
   "id": "e5544849",
   "metadata": {
    "ExecuteTime": {
     "end_time": "2023-03-20T11:54:28.405773Z",
     "start_time": "2023-03-20T11:54:28.398291Z"
    }
   },
   "source": [
    "***\n",
    "<h2 style=\"color: #1048CB\"><b>Data Quality</b></h2>\n",
    "\n",
    "<p style=\"text-align: justify\"> &emsp;There are no missing values in the dataset, and all of the features have the correct data type - 10 numeric, and 8 categorical features. Among the 8 categorical features, `traffic_type` and `browser` have the most number of categories of 20 and 13, respectively. Whereas `weekend` and `revenue` are just either 1 for True, or 0 for False. </p>"
   ]
  },
  {
   "cell_type": "code",
   "execution_count": 6,
   "id": "96a1e289",
   "metadata": {
    "ExecuteTime": {
     "end_time": "2023-03-20T15:30:16.285237Z",
     "start_time": "2023-03-20T15:30:16.272429Z"
    }
   },
   "outputs": [
    {
     "name": "stdout",
     "output_type": "stream",
     "text": [
      "Number of missing values per feature:\n"
     ]
    },
    {
     "data": {
      "text/plain": [
       "administrative              0\n",
       "administrative_duration     0\n",
       "informational               0\n",
       "informational_duration      0\n",
       "product_related             0\n",
       "product_related_duration    0\n",
       "bounce_rates                0\n",
       "exit_rates                  0\n",
       "page_values                 0\n",
       "special_day                 0\n",
       "month                       0\n",
       "operating_systems           0\n",
       "browser                     0\n",
       "region                      0\n",
       "traffic_type                0\n",
       "visitor_type                0\n",
       "weekend                     0\n",
       "revenue                     0\n",
       "dtype: int64"
      ]
     },
     "execution_count": 6,
     "metadata": {},
     "output_type": "execute_result"
    }
   ],
   "source": [
    "print('Number of missing values per feature:')\n",
    "df.isnull().sum()"
   ]
  },
  {
   "cell_type": "code",
   "execution_count": 7,
   "id": "bed205e0",
   "metadata": {
    "ExecuteTime": {
     "end_time": "2023-03-20T15:30:16.304616Z",
     "start_time": "2023-03-20T15:30:16.287412Z"
    }
   },
   "outputs": [
    {
     "name": "stdout",
     "output_type": "stream",
     "text": [
      "Data type of each feature:\n",
      "<class 'pandas.core.frame.DataFrame'>\n",
      "RangeIndex: 12330 entries, 0 to 12329\n",
      "Data columns (total 18 columns):\n",
      " #   Column                    Non-Null Count  Dtype  \n",
      "---  ------                    --------------  -----  \n",
      " 0   administrative            12330 non-null  int64  \n",
      " 1   administrative_duration   12330 non-null  float64\n",
      " 2   informational             12330 non-null  int64  \n",
      " 3   informational_duration    12330 non-null  float64\n",
      " 4   product_related           12330 non-null  int64  \n",
      " 5   product_related_duration  12330 non-null  float64\n",
      " 6   bounce_rates              12330 non-null  float64\n",
      " 7   exit_rates                12330 non-null  float64\n",
      " 8   page_values               12330 non-null  float64\n",
      " 9   special_day               12330 non-null  float64\n",
      " 10  month                     12330 non-null  object \n",
      " 11  operating_systems         12330 non-null  int64  \n",
      " 12  browser                   12330 non-null  int64  \n",
      " 13  region                    12330 non-null  int64  \n",
      " 14  traffic_type              12330 non-null  int64  \n",
      " 15  visitor_type              12330 non-null  object \n",
      " 16  weekend                   12330 non-null  int64  \n",
      " 17  revenue                   12330 non-null  int64  \n",
      "dtypes: float64(7), int64(9), object(2)\n",
      "memory usage: 1.7+ MB\n"
     ]
    }
   ],
   "source": [
    "print('Data type of each feature:')\n",
    "df.info()"
   ]
  },
  {
   "cell_type": "code",
   "execution_count": 8,
   "id": "0f3f507a",
   "metadata": {
    "ExecuteTime": {
     "end_time": "2023-03-20T15:30:16.318874Z",
     "start_time": "2023-03-20T15:30:16.306777Z"
    }
   },
   "outputs": [
    {
     "name": "stdout",
     "output_type": "stream",
     "text": [
      "Number of categories per feature:\n"
     ]
    },
    {
     "data": {
      "text/plain": [
       "traffic_type         20\n",
       "browser              13\n",
       "month                10\n",
       "region                9\n",
       "operating_systems     8\n",
       "visitor_type          3\n",
       "weekend               2\n",
       "revenue               2\n",
       "dtype: int64"
      ]
     },
     "execution_count": 8,
     "metadata": {},
     "output_type": "execute_result"
    }
   ],
   "source": [
    "print('Number of categories per feature:')\n",
    "df[categorical].nunique().sort_values(ascending=False)"
   ]
  },
  {
   "cell_type": "markdown",
   "id": "62976e2b",
   "metadata": {},
   "source": [
    "***\n",
    "<h2 style=\"color: #1048CB\"><b>Class imbalance</b></h2>\n",
    "\n",
    "<p style=\"text-align: justify\"> &emsp;The dataset is moderately imbalanced having only 15.47% (1,908) positive class samples. The Proportional Chance Criterion (PCC) suggests that 73.8% of the time, the model will correctly classify the dataset by chance alone. </p>"
   ]
  },
  {
   "cell_type": "code",
   "execution_count": 9,
   "id": "45145e3c",
   "metadata": {
    "ExecuteTime": {
     "end_time": "2023-03-20T15:30:16.468888Z",
     "start_time": "2023-03-20T15:30:16.321054Z"
    }
   },
   "outputs": [
    {
     "data": {
      "image/png": "[encoded data removed]",
      "text/plain": [
       "<Figure size 432x288 with 1 Axes>"
      ]
     },
     "metadata": {
      "needs_background": "light"
     },
     "output_type": "display_data"
    }
   ],
   "source": [
    "df_plt = (df.groupby('revenue').size()\n",
    "            .rename({0: 'Did not Buy', 1: 'Bought'}).reset_index(name='c'))\n",
    "ax = sns.barplot(x='revenue', y='c', data=df_plt)\n",
    "ax.set(xlabel='', ylabel='Number of Visitors',\n",
    "       title=f'Fig. {fig_n}: Target class distribution');\n",
    "_ = fig_count()"
   ]
  },
  {
   "cell_type": "code",
   "execution_count": 10,
   "id": "fddd285d",
   "metadata": {
    "ExecuteTime": {
     "end_time": "2023-03-20T15:30:16.479607Z",
     "start_time": "2023-03-20T15:30:16.473525Z"
    }
   },
   "outputs": [
    {
     "name": "stdout",
     "output_type": "stream",
     "text": [
      "PCC: 0.738 -- 1.25 x PCC: 0.923\n"
     ]
    }
   ],
   "source": [
    "pcc = np.sum((df.revenue.value_counts() / len(df))**2)\n",
    "print(f'PCC: {pcc:.3f} -- 1.25 x PCC: {pcc*1.25:.3f}')"
   ]
  },
  {
   "cell_type": "markdown",
   "id": "a4fbe6b0",
   "metadata": {},
   "source": [
    "***\n",
    "<h2 style=\"color: #1048CB\"><b>Google Analytics (GA) Metrics</b></h2>\n",
    "\n",
    "<p style=\"text-align: justify\"> &emsp;These features mainly describe the user behavior when browsing through the ecommerce site. Majority of the pages that users last visited have bounce rates between 0-0.025, exit rates at 0 - 0.05, and page values at 0-50. These indicate that the users are in the website briefly with very few page bounces before closing the site or purchasing an item. The average page value of the site is around 5.9 which means that each page is worth 5.9 dollars on a customer session. </p>"
   ]
  },
  {
   "cell_type": "code",
   "execution_count": 11,
   "id": "c23fec7b",
   "metadata": {
    "ExecuteTime": {
     "end_time": "2023-03-20T15:30:16.887195Z",
     "start_time": "2023-03-20T15:30:16.481661Z"
    }
   },
   "outputs": [
    {
     "data": {
      "image/png": "[encoded data removed]",
      "text/plain": [
       "<Figure size 864x576 with 4 Axes>"
      ]
     },
     "metadata": {
      "needs_background": "light"
     },
     "output_type": "display_data"
    }
   ],
   "source": [
    "df[page_rates].hist(figsize=(12,8), grid=False)\n",
    "plt.suptitle(f'Fig. {fig_n}: Distribution of GA features',\n",
    "             fontsize=16, y=0.95);\n",
    "_ = fig_count()"
   ]
  },
  {
   "cell_type": "markdown",
   "id": "4f8e28ec",
   "metadata": {
    "ExecuteTime": {
     "end_time": "2023-03-20T14:40:54.936361Z",
     "start_time": "2023-03-20T14:40:54.930468Z"
    }
   },
   "source": [
    "***\n",
    "<h2 style=\"color: #1048CB\"><b>Page Views</b></h2>\n",
    "\n",
    "<p style=\"text-align: justify\"> &emsp;Majority of the Administrative and Informational page visits are very low at approximately 0-5 visits per session. Whereas product-related page visits make up the majority of views at around 0-100 page visits per session. </p>"
   ]
  },
  {
   "cell_type": "code",
   "execution_count": 12,
   "id": "85f8dcd1",
   "metadata": {
    "ExecuteTime": {
     "end_time": "2023-03-20T15:30:17.292022Z",
     "start_time": "2023-03-20T15:30:16.889698Z"
    }
   },
   "outputs": [
    {
     "data": {
      "image/png": "[encoded data removed]",
      "text/plain": [
       "<Figure size 864x576 with 4 Axes>"
      ]
     },
     "metadata": {
      "needs_background": "light"
     },
     "output_type": "display_data"
    }
   ],
   "source": [
    "df[user_visits].hist(figsize=(12,8), grid=False)\n",
    "plt.suptitle(f'Fig. {fig_n}: Distribution of Views per Page type',\n",
    "             fontsize=16, y=0.95);\n",
    "_ = fig_count()"
   ]
  },
  {
   "cell_type": "markdown",
   "id": "a993653b",
   "metadata": {},
   "source": [
    "***\n",
    "<h2 style=\"color: #1048CB\"><b>Page View Duration</b></h2>\n",
    "\n",
    "<p style=\"text-align: justify\"> &emsp;Both Administrative and Informational page visit durations are low at around 0-250 seconds the majority of the time. A user session is mostly spent visiting product pages where most sessios in product pages last between 0-5000 seconds. These duration values suggest that customers spend an average of 80 seconds in administrative pages, 34 seconds in informational pages and 1194 seconds in product pages. </p>"
   ]
  },
  {
   "cell_type": "code",
   "execution_count": 13,
   "id": "24e2da32",
   "metadata": {
    "ExecuteTime": {
     "end_time": "2023-03-20T15:30:17.832181Z",
     "start_time": "2023-03-20T15:30:17.294301Z"
    }
   },
   "outputs": [
    {
     "data": {
      "image/png": "[encoded data removed]",
      "text/plain": [
       "<Figure size 864x576 with 4 Axes>"
      ]
     },
     "metadata": {
      "needs_background": "light"
     },
     "output_type": "display_data"
    }
   ],
   "source": [
    "df[page_duration].hist(figsize=(12,8), grid=False)\n",
    "plt.suptitle(f'Fig. {fig_n}: Distribution of View duration per Page type',\n",
    "             fontsize=16, y=0.95);\n",
    "_ = fig_count()"
   ]
  },
  {
   "cell_type": "markdown",
   "id": "cea2a9a0",
   "metadata": {},
   "source": [
    "***\n",
    "<h2 style=\"color: #1048CB\"><b>Web Traffic Quality, Device info, and Visitor Location</b></h2>\n",
    "\n",
    "<p style=\"text-align: justify\"> &emsp;The following features describe the type of machine and general location of the user when the session was started. Unfortunately, data source did not go further into describing what these labels correspond to. e.g., number 2 in operating system can be attributed to windows since it is the most popular operating system in the world. </p>"
   ]
  },
  {
   "cell_type": "code",
   "execution_count": 14,
   "id": "bf36b00a",
   "metadata": {
    "ExecuteTime": {
     "end_time": "2023-03-20T15:30:18.311884Z",
     "start_time": "2023-03-20T15:30:17.834322Z"
    }
   },
   "outputs": [
    {
     "data": {
      "image/png": "[encoded data removed]",
      "text/plain": [
       "<Figure size 864x576 with 4 Axes>"
      ]
     },
     "metadata": {
      "needs_background": "light"
     },
     "output_type": "display_data"
    }
   ],
   "source": [
    "df[user_system].hist(figsize=(12,8), grid=False)\n",
    "plt.suptitle(f'Fig. {fig_n}: Distribution of Other Nominal features',\n",
    "             fontsize=16, y=0.95);\n",
    "_ = fig_count()"
   ]
  },
  {
   "cell_type": "markdown",
   "id": "c48e040f",
   "metadata": {},
   "source": [
    "***\n",
    "<h2 style=\"color: #1048CB\"><b>Seasonality of Visit</b></h2>\n",
    "\n",
    "<p style=\"text-align: justify\"> &emsp;Interestingly, the majority of visits did not happen during a weekend. With 77% of it happening during the weekday. Although no further information was given about the time of day, or the specific day of week. </p>"
   ]
  },
  {
   "cell_type": "code",
   "execution_count": 15,
   "id": "cd38ecae",
   "metadata": {
    "ExecuteTime": {
     "end_time": "2023-03-20T15:30:18.407736Z",
     "start_time": "2023-03-20T15:30:18.313960Z"
    }
   },
   "outputs": [
    {
     "data": {
      "image/png": "[encoded data removed]",
      "text/plain": [
       "<Figure size 432x288 with 1 Axes>"
      ]
     },
     "metadata": {
      "needs_background": "light"
     },
     "output_type": "display_data"
    }
   ],
   "source": [
    "df_plt = (df.groupby('weekend').size()\n",
    "            .rename({0: 'Not a weekend', 1: 'weekend'}).reset_index(name='c'))\n",
    "ax = sns.barplot(x='weekend', y='c', data=df_plt)\n",
    "ax.set(xlabel='', ylabel='Number of Visitors',\n",
    "       title=f'Fig. {fig_n}: Visitor count by day of week');\n",
    "_ = fig_count()"
   ]
  },
  {
   "cell_type": "markdown",
   "id": "535e618e",
   "metadata": {},
   "source": [
    "***\n",
    "<h2 style=\"color: #1048CB\"><b>Test of Independence</b></h2>\n",
    "\n",
    "&emsp;In the following cells, we determine whether different categorical variables are independent of each other or from the target value `revenue` using the Chi-squared test of independence. Results show that we reject the null hypothesis that `visitor_type` and `revenue` are independent. Hence, one strategy that the business can consider is coming up with appropriate campaigns to each vistor type that will incentivize e-shoppers to purchase. Similar observations can also be observed with other categorical features, except for `region`."
   ]
  },
  {
   "cell_type": "code",
   "execution_count": 42,
   "id": "32913945",
   "metadata": {
    "ExecuteTime": {
     "end_time": "2023-03-20T15:53:30.595278Z",
     "start_time": "2023-03-20T15:53:30.584509Z"
    }
   },
   "outputs": [],
   "source": [
    "def chi_squared_test():\n",
    "    \"\"\"\n",
    "    Hypothesis test used to test whether two categorical variables are \n",
    "    related to each other.\n",
    "    \"\"\"\n",
    "    discrete_features = ['administrative', 'informational', \n",
    "                     'product_related', 'month', \n",
    "                     'operating_systems', 'browser', \n",
    "                     'region', 'traffic_type', \n",
    "                     'visitor_type', 'weekend']\n",
    "\n",
    "    chi_squared_df = pd.DataFrame(columns=['feature', 'pval', 'dependent'])\n",
    "    \n",
    "    for i, col in enumerate(discrete_features):\n",
    "        x = df.groupby(['revenue', col])[col].count().unstack(1).fillna(0).astype('int')\n",
    "        res = stats.chi2_contingency(x.values)\n",
    "        pval = res[1]\n",
    "\n",
    "        if pval < 0.05:\n",
    "            dependent = 'Yes'\n",
    "        else:\n",
    "            dependent = 'No'\n",
    "\n",
    "        chi_squared_df.loc[i] = [col, round(pval,3), dependent]\n",
    "    return chi_squared_df"
   ]
  },
  {
   "cell_type": "code",
   "execution_count": 43,
   "id": "cbc05a68",
   "metadata": {
    "ExecuteTime": {
     "end_time": "2023-03-20T15:53:31.120434Z",
     "start_time": "2023-03-20T15:53:31.021373Z"
    }
   },
   "outputs": [
    {
     "data": {
      "text/html": [
       "<div>\n",
       "<style scoped>\n",
       "    .dataframe tbody tr th:only-of-type {\n",
       "        vertical-align: middle;\n",
       "    }\n",
       "\n",
       "    .dataframe tbody tr th {\n",
       "        vertical-align: top;\n",
       "    }\n",
       "\n",
       "    .dataframe thead th {\n",
       "        text-align: right;\n",
       "    }\n",
       "</style>\n",
       "<table border=\"1\" class=\"dataframe\">\n",
       "  <thead>\n",
       "    <tr style=\"text-align: right;\">\n",
       "      <th></th>\n",
       "      <th>feature</th>\n",
       "      <th>pval</th>\n",
       "      <th>dependent</th>\n",
       "    </tr>\n",
       "  </thead>\n",
       "  <tbody>\n",
       "    <tr>\n",
       "      <th>0</th>\n",
       "      <td>administrative</td>\n",
       "      <td>0.000</td>\n",
       "      <td>Yes</td>\n",
       "    </tr>\n",
       "    <tr>\n",
       "      <th>1</th>\n",
       "      <td>informational</td>\n",
       "      <td>0.000</td>\n",
       "      <td>Yes</td>\n",
       "    </tr>\n",
       "    <tr>\n",
       "      <th>2</th>\n",
       "      <td>product_related</td>\n",
       "      <td>0.000</td>\n",
       "      <td>Yes</td>\n",
       "    </tr>\n",
       "    <tr>\n",
       "      <th>3</th>\n",
       "      <td>month</td>\n",
       "      <td>0.000</td>\n",
       "      <td>Yes</td>\n",
       "    </tr>\n",
       "    <tr>\n",
       "      <th>4</th>\n",
       "      <td>operating_systems</td>\n",
       "      <td>0.000</td>\n",
       "      <td>Yes</td>\n",
       "    </tr>\n",
       "    <tr>\n",
       "      <th>5</th>\n",
       "      <td>browser</td>\n",
       "      <td>0.006</td>\n",
       "      <td>Yes</td>\n",
       "    </tr>\n",
       "    <tr>\n",
       "      <th>6</th>\n",
       "      <td>region</td>\n",
       "      <td>0.321</td>\n",
       "      <td>No</td>\n",
       "    </tr>\n",
       "    <tr>\n",
       "      <th>7</th>\n",
       "      <td>traffic_type</td>\n",
       "      <td>0.000</td>\n",
       "      <td>Yes</td>\n",
       "    </tr>\n",
       "    <tr>\n",
       "      <th>8</th>\n",
       "      <td>visitor_type</td>\n",
       "      <td>0.000</td>\n",
       "      <td>Yes</td>\n",
       "    </tr>\n",
       "    <tr>\n",
       "      <th>9</th>\n",
       "      <td>weekend</td>\n",
       "      <td>0.001</td>\n",
       "      <td>Yes</td>\n",
       "    </tr>\n",
       "  </tbody>\n",
       "</table>\n",
       "</div>"
      ],
      "text/plain": [
       "             feature   pval dependent\n",
       "0     administrative  0.000       Yes\n",
       "1      informational  0.000       Yes\n",
       "2    product_related  0.000       Yes\n",
       "3              month  0.000       Yes\n",
       "4  operating_systems  0.000       Yes\n",
       "5            browser  0.006       Yes\n",
       "6             region  0.321        No\n",
       "7       traffic_type  0.000       Yes\n",
       "8       visitor_type  0.000       Yes\n",
       "9            weekend  0.001       Yes"
      ]
     },
     "execution_count": 43,
     "metadata": {},
     "output_type": "execute_result"
    }
   ],
   "source": [
    "chi_squared_test()"
   ]
  },
  {
   "cell_type": "markdown",
   "id": "a2ac49ba",
   "metadata": {},
   "source": [
    "***\n",
    "\n",
    "<h1 style=\"color: #1048CB\"><b>VI. Method</b></h1>"
   ]
  },
  {
   "cell_type": "markdown",
   "id": "20ab1ef9",
   "metadata": {},
   "source": [
    "***\n",
    "<h2 style=\"color: #1048CB\"><b>Data Pre-processing</b></h2>\n",
    "\n",
    "&emsp;In preparation for the predictive modeling, the 6 nominal features (`month`, `operating_systems`, `browser`, `region`, `traffic_type`, and `visitor_type`) were One-Hot encoded to represent them as a binary variable with either 1 or 0 as their value. This representation ensures that the model will not assume any order and that each value is treated with equal importance."
   ]
  },
  {
   "cell_type": "code",
   "execution_count": 16,
   "id": "b9f80e77",
   "metadata": {
    "ExecuteTime": {
     "end_time": "2023-03-20T15:30:18.444460Z",
     "start_time": "2023-03-20T15:30:18.409831Z"
    }
   },
   "outputs": [],
   "source": [
    "# One-Hot encoding of categorical variables\n",
    "df_enc = pd.get_dummies(df, columns=to_enc, drop_first=True)\n",
    "cat_enc = list(set(df_enc.columns) - set(numerical))\n",
    "cat_enc_idx = sorted([df_enc.columns.get_loc(c) for c in cat_enc])\n",
    "df_enc.iloc[:, cat_enc_idx] = df_enc.iloc[:, cat_enc_idx].astype('int64')"
   ]
  },
  {
   "cell_type": "code",
   "execution_count": 17,
   "id": "884a51ae",
   "metadata": {
    "ExecuteTime": {
     "end_time": "2023-03-20T15:30:18.467956Z",
     "start_time": "2023-03-20T15:30:18.446686Z"
    }
   },
   "outputs": [
    {
     "data": {
      "text/html": [
       "<div>\n",
       "<style scoped>\n",
       "    .dataframe tbody tr th:only-of-type {\n",
       "        vertical-align: middle;\n",
       "    }\n",
       "\n",
       "    .dataframe tbody tr th {\n",
       "        vertical-align: top;\n",
       "    }\n",
       "\n",
       "    .dataframe thead th {\n",
       "        text-align: right;\n",
       "    }\n",
       "</style>\n",
       "<table border=\"1\" class=\"dataframe\">\n",
       "  <thead>\n",
       "    <tr style=\"text-align: right;\">\n",
       "      <th></th>\n",
       "      <th>administrative</th>\n",
       "      <th>administrative_duration</th>\n",
       "      <th>informational</th>\n",
       "      <th>informational_duration</th>\n",
       "      <th>product_related</th>\n",
       "      <th>product_related_duration</th>\n",
       "      <th>bounce_rates</th>\n",
       "      <th>exit_rates</th>\n",
       "      <th>page_values</th>\n",
       "      <th>special_day</th>\n",
       "      <th>...</th>\n",
       "      <th>traffic_type_13</th>\n",
       "      <th>traffic_type_14</th>\n",
       "      <th>traffic_type_15</th>\n",
       "      <th>traffic_type_16</th>\n",
       "      <th>traffic_type_17</th>\n",
       "      <th>traffic_type_18</th>\n",
       "      <th>traffic_type_19</th>\n",
       "      <th>traffic_type_20</th>\n",
       "      <th>visitor_type_Other</th>\n",
       "      <th>visitor_type_Returning_Visitor</th>\n",
       "    </tr>\n",
       "  </thead>\n",
       "  <tbody>\n",
       "    <tr>\n",
       "      <th>0</th>\n",
       "      <td>0</td>\n",
       "      <td>0.0</td>\n",
       "      <td>0</td>\n",
       "      <td>0.0</td>\n",
       "      <td>1</td>\n",
       "      <td>0.000000</td>\n",
       "      <td>0.20</td>\n",
       "      <td>0.20</td>\n",
       "      <td>0.0</td>\n",
       "      <td>0.0</td>\n",
       "      <td>...</td>\n",
       "      <td>0</td>\n",
       "      <td>0</td>\n",
       "      <td>0</td>\n",
       "      <td>0</td>\n",
       "      <td>0</td>\n",
       "      <td>0</td>\n",
       "      <td>0</td>\n",
       "      <td>0</td>\n",
       "      <td>0</td>\n",
       "      <td>1</td>\n",
       "    </tr>\n",
       "    <tr>\n",
       "      <th>1</th>\n",
       "      <td>0</td>\n",
       "      <td>0.0</td>\n",
       "      <td>0</td>\n",
       "      <td>0.0</td>\n",
       "      <td>2</td>\n",
       "      <td>64.000000</td>\n",
       "      <td>0.00</td>\n",
       "      <td>0.10</td>\n",
       "      <td>0.0</td>\n",
       "      <td>0.0</td>\n",
       "      <td>...</td>\n",
       "      <td>0</td>\n",
       "      <td>0</td>\n",
       "      <td>0</td>\n",
       "      <td>0</td>\n",
       "      <td>0</td>\n",
       "      <td>0</td>\n",
       "      <td>0</td>\n",
       "      <td>0</td>\n",
       "      <td>0</td>\n",
       "      <td>1</td>\n",
       "    </tr>\n",
       "    <tr>\n",
       "      <th>2</th>\n",
       "      <td>0</td>\n",
       "      <td>0.0</td>\n",
       "      <td>0</td>\n",
       "      <td>0.0</td>\n",
       "      <td>1</td>\n",
       "      <td>0.000000</td>\n",
       "      <td>0.20</td>\n",
       "      <td>0.20</td>\n",
       "      <td>0.0</td>\n",
       "      <td>0.0</td>\n",
       "      <td>...</td>\n",
       "      <td>0</td>\n",
       "      <td>0</td>\n",
       "      <td>0</td>\n",
       "      <td>0</td>\n",
       "      <td>0</td>\n",
       "      <td>0</td>\n",
       "      <td>0</td>\n",
       "      <td>0</td>\n",
       "      <td>0</td>\n",
       "      <td>1</td>\n",
       "    </tr>\n",
       "    <tr>\n",
       "      <th>3</th>\n",
       "      <td>0</td>\n",
       "      <td>0.0</td>\n",
       "      <td>0</td>\n",
       "      <td>0.0</td>\n",
       "      <td>2</td>\n",
       "      <td>2.666667</td>\n",
       "      <td>0.05</td>\n",
       "      <td>0.14</td>\n",
       "      <td>0.0</td>\n",
       "      <td>0.0</td>\n",
       "      <td>...</td>\n",
       "      <td>0</td>\n",
       "      <td>0</td>\n",
       "      <td>0</td>\n",
       "      <td>0</td>\n",
       "      <td>0</td>\n",
       "      <td>0</td>\n",
       "      <td>0</td>\n",
       "      <td>0</td>\n",
       "      <td>0</td>\n",
       "      <td>1</td>\n",
       "    </tr>\n",
       "    <tr>\n",
       "      <th>4</th>\n",
       "      <td>0</td>\n",
       "      <td>0.0</td>\n",
       "      <td>0</td>\n",
       "      <td>0.0</td>\n",
       "      <td>10</td>\n",
       "      <td>627.500000</td>\n",
       "      <td>0.02</td>\n",
       "      <td>0.05</td>\n",
       "      <td>0.0</td>\n",
       "      <td>0.0</td>\n",
       "      <td>...</td>\n",
       "      <td>0</td>\n",
       "      <td>0</td>\n",
       "      <td>0</td>\n",
       "      <td>0</td>\n",
       "      <td>0</td>\n",
       "      <td>0</td>\n",
       "      <td>0</td>\n",
       "      <td>0</td>\n",
       "      <td>0</td>\n",
       "      <td>1</td>\n",
       "    </tr>\n",
       "  </tbody>\n",
       "</table>\n",
       "<p>5 rows × 69 columns</p>\n",
       "</div>"
      ],
      "text/plain": [
       "   administrative  administrative_duration  informational  \\\n",
       "0               0                      0.0              0   \n",
       "1               0                      0.0              0   \n",
       "2               0                      0.0              0   \n",
       "3               0                      0.0              0   \n",
       "4               0                      0.0              0   \n",
       "\n",
       "   informational_duration  product_related  product_related_duration  \\\n",
       "0                     0.0                1                  0.000000   \n",
       "1                     0.0                2                 64.000000   \n",
       "2                     0.0                1                  0.000000   \n",
       "3                     0.0                2                  2.666667   \n",
       "4                     0.0               10                627.500000   \n",
       "\n",
       "   bounce_rates  exit_rates  page_values  special_day  ...  traffic_type_13  \\\n",
       "0          0.20        0.20          0.0          0.0  ...                0   \n",
       "1          0.00        0.10          0.0          0.0  ...                0   \n",
       "2          0.20        0.20          0.0          0.0  ...                0   \n",
       "3          0.05        0.14          0.0          0.0  ...                0   \n",
       "4          0.02        0.05          0.0          0.0  ...                0   \n",
       "\n",
       "   traffic_type_14  traffic_type_15  traffic_type_16  traffic_type_17  \\\n",
       "0                0                0                0                0   \n",
       "1                0                0                0                0   \n",
       "2                0                0                0                0   \n",
       "3                0                0                0                0   \n",
       "4                0                0                0                0   \n",
       "\n",
       "   traffic_type_18  traffic_type_19  traffic_type_20  visitor_type_Other  \\\n",
       "0                0                0                0                   0   \n",
       "1                0                0                0                   0   \n",
       "2                0                0                0                   0   \n",
       "3                0                0                0                   0   \n",
       "4                0                0                0                   0   \n",
       "\n",
       "   visitor_type_Returning_Visitor  \n",
       "0                               1  \n",
       "1                               1  \n",
       "2                               1  \n",
       "3                               1  \n",
       "4                               1  \n",
       "\n",
       "[5 rows x 69 columns]"
      ]
     },
     "execution_count": 17,
     "metadata": {},
     "output_type": "execute_result"
    }
   ],
   "source": [
    "df_enc.head()"
   ]
  },
  {
   "cell_type": "markdown",
   "id": "87e7d458",
   "metadata": {},
   "source": [
    "***\n",
    "<h2 style=\"color: #1048CB\"><b>Predictive Modeling</b></h2>"
   ]
  },
  {
   "cell_type": "markdown",
   "id": "7d230aaf",
   "metadata": {},
   "source": [
    "***\n",
    "**Train-test split**\n",
    "\n",
    "&emsp;20% of the dataset (2,466) was assigned as the test set, and the remaining as train-validation set. During this split, the target (`revenue`) was stratified such that the proportion of its values in the sample will remain the same as that in the whole dataset."
   ]
  },
  {
   "cell_type": "code",
   "execution_count": 18,
   "id": "f83824fc",
   "metadata": {
    "ExecuteTime": {
     "end_time": "2023-03-20T15:30:18.493401Z",
     "start_time": "2023-03-20T15:30:18.469977Z"
    }
   },
   "outputs": [
    {
     "name": "stdout",
     "output_type": "stream",
     "text": [
      "x train-val shape: (9864, 68) -- x test shape: (2466, 68)\n"
     ]
    }
   ],
   "source": [
    "# Split the data into train, validation, and test set\n",
    "randstate = 143\n",
    "testsize = 0.20\n",
    "target = 'revenue'\n",
    "\n",
    "x, y = df_enc.drop(target, axis=1), df_enc[target]\n",
    "x_trainval, x_test, y_trainval, y_test = train_test_split(x, y,\n",
    "                                                          random_state=randstate,\n",
    "                                                          test_size=testsize,\n",
    "                                                          stratify=y)\n",
    "print(f'x train-val shape: {x_trainval.shape} -- x test shape: {x_test.shape}')"
   ]
  },
  {
   "cell_type": "markdown",
   "id": "e1a26a5c",
   "metadata": {},
   "source": [
    "**Feature Scaling**\n",
    "\n",
    "&emsp;As a pre-processing step before training and generating predictions, the numerical features were first scaled using `RobustScaler` [1], which removes the median and scales the data based on its InterQuantile Range (IQR), due to the presence of outliers.\n",
    "\n",
    "\n",
    "**Classification**\n",
    "\n",
    "&emsp;With the goal of predicting whether a visit would render a purchase or not, the best model among 4 classifiers - Lasso, Linear SVC, Random Forest, and Gradient Boosting was then identified based on which generates the highest average recall using the validation dataset. The inverse of the regularization parameter, `C`, of the Lasso and Linear SVC models were tuned to get the optimal parameter that give out the best results on average within 5 trials. The same was done for the Random Forest and Gradient Boosting models but with the maximum depth, `max_depth`, and maximum features, `max_features` as the hyperparameters to tune.\n",
    "\n",
    "&emsp;In this context, recall was deemed as the most important metric and was used to evaluate the models' performance. We chose to focus on the \"completeness\" of the predictions since it will be more costly if the model misses potential revenue-generating visitors than the additional marketing cost that could come from reaching out to incorrectly tagged visitors. Thus, the goal is to identify as many potential buyers as possible even if the accuracy is quite low."
   ]
  },
  {
   "cell_type": "code",
   "execution_count": 19,
   "id": "ade3bc4e",
   "metadata": {
    "ExecuteTime": {
     "end_time": "2023-03-20T15:30:18.501705Z",
     "start_time": "2023-03-20T15:30:18.495982Z"
    }
   },
   "outputs": [],
   "source": [
    "def tune_pred_model(pipe, params, folds, metrics, refit=True, refit_on='recall'):\n",
    "    \"\"\"\n",
    "    Return the results of GridSearchCV.\n",
    "    \"\"\"\n",
    "    if refit:\n",
    "        return GridSearchCV(estimator=pipe,\n",
    "                           param_grid=params,\n",
    "                           cv=folds,\n",
    "                           scoring=metrics,\n",
    "                           refit=refit_on, \n",
    "                           n_jobs=-1, # -1 to run jobs in parallel for faster runtime\n",
    "                           return_train_score=True, # True to return both the train and test scores\n",
    "                           verbose=1,\n",
    "                           pre_dispatch=5) \n",
    "    else:\n",
    "        return GridSearchCV(estimator=pipe,\n",
    "                   param_grid=params,\n",
    "                   cv=folds,\n",
    "                   scoring=metrics,\n",
    "                   n_jobs=-1, # -1 to run jobs in parallel for faster runtime\n",
    "                   return_train_score=True, # True to return both the train and test scores\n",
    "                   verbose=1,\n",
    "                   pre_dispatch=5) "
   ]
  },
  {
   "cell_type": "code",
   "execution_count": 20,
   "id": "4b846a94",
   "metadata": {
    "ExecuteTime": {
     "end_time": "2023-03-20T15:37:48.526093Z",
     "start_time": "2023-03-20T15:30:18.504303Z"
    }
   },
   "outputs": [
    {
     "name": "stdout",
     "output_type": "stream",
     "text": [
      "Pipes: 4 -- Params: 4\n",
      "Fitting 5 folds for each of 17 candidates, totalling 85 fits\n"
     ]
    },
    {
     "name": "stderr",
     "output_type": "stream",
     "text": [
      "/home/msds2023/mmenorca/.local/lib/python3.9/site-packages/sklearn/metrics/_classification.py:1344: UndefinedMetricWarning: Precision is ill-defined and being set to 0.0 due to no predicted samples. Use `zero_division` parameter to control this behavior.\n",
      "  _warn_prf(average, modifier, msg_start, len(result))\n",
      "/home/msds2023/mmenorca/.local/lib/python3.9/site-packages/sklearn/metrics/_classification.py:1344: UndefinedMetricWarning: Precision is ill-defined and being set to 0.0 due to no predicted samples. Use `zero_division` parameter to control this behavior.\n",
      "  _warn_prf(average, modifier, msg_start, len(result))\n",
      "/home/msds2023/mmenorca/.local/lib/python3.9/site-packages/sklearn/metrics/_classification.py:1344: UndefinedMetricWarning: Precision is ill-defined and being set to 0.0 due to no predicted samples. Use `zero_division` parameter to control this behavior.\n",
      "  _warn_prf(average, modifier, msg_start, len(result))\n",
      "/home/msds2023/mmenorca/.local/lib/python3.9/site-packages/sklearn/metrics/_classification.py:1344: UndefinedMetricWarning: Precision is ill-defined and being set to 0.0 due to no predicted samples. Use `zero_division` parameter to control this behavior.\n",
      "  _warn_prf(average, modifier, msg_start, len(result))\n",
      "/home/msds2023/mmenorca/.local/lib/python3.9/site-packages/sklearn/metrics/_classification.py:1344: UndefinedMetricWarning: Precision is ill-defined and being set to 0.0 due to no predicted samples. Use `zero_division` parameter to control this behavior.\n",
      "  _warn_prf(average, modifier, msg_start, len(result))\n",
      "/home/msds2023/mmenorca/.local/lib/python3.9/site-packages/sklearn/metrics/_classification.py:1344: UndefinedMetricWarning: Precision is ill-defined and being set to 0.0 due to no predicted samples. Use `zero_division` parameter to control this behavior.\n",
      "  _warn_prf(average, modifier, msg_start, len(result))\n",
      "/home/msds2023/mmenorca/.local/lib/python3.9/site-packages/sklearn/metrics/_classification.py:1344: UndefinedMetricWarning: Precision is ill-defined and being set to 0.0 due to no predicted samples. Use `zero_division` parameter to control this behavior.\n",
      "  _warn_prf(average, modifier, msg_start, len(result))\n",
      "/home/msds2023/mmenorca/.local/lib/python3.9/site-packages/sklearn/metrics/_classification.py:1344: UndefinedMetricWarning: Precision is ill-defined and being set to 0.0 due to no predicted samples. Use `zero_division` parameter to control this behavior.\n",
      "  _warn_prf(average, modifier, msg_start, len(result))\n",
      "/home/msds2023/mmenorca/.local/lib/python3.9/site-packages/sklearn/metrics/_classification.py:1344: UndefinedMetricWarning: Precision is ill-defined and being set to 0.0 due to no predicted samples. Use `zero_division` parameter to control this behavior.\n",
      "  _warn_prf(average, modifier, msg_start, len(result))\n",
      "/home/msds2023/mmenorca/.local/lib/python3.9/site-packages/sklearn/metrics/_classification.py:1344: UndefinedMetricWarning: Precision is ill-defined and being set to 0.0 due to no predicted samples. Use `zero_division` parameter to control this behavior.\n",
      "  _warn_prf(average, modifier, msg_start, len(result))\n"
     ]
    },
    {
     "name": "stdout",
     "output_type": "stream",
     "text": [
      "Fitting 5 folds for each of 17 candidates, totalling 85 fits\n"
     ]
    },
    {
     "name": "stderr",
     "output_type": "stream",
     "text": [
      "/home/msds2023/mmenorca/.local/lib/python3.9/site-packages/sklearn/svm/_base.py:1244: ConvergenceWarning: Liblinear failed to converge, increase the number of iterations.\n",
      "  warnings.warn(\n",
      "/home/msds2023/mmenorca/.local/lib/python3.9/site-packages/sklearn/svm/_base.py:1244: ConvergenceWarning: Liblinear failed to converge, increase the number of iterations.\n",
      "  warnings.warn(\n",
      "/home/msds2023/mmenorca/.local/lib/python3.9/site-packages/sklearn/svm/_base.py:1244: ConvergenceWarning: Liblinear failed to converge, increase the number of iterations.\n",
      "  warnings.warn(\n",
      "/home/msds2023/mmenorca/.local/lib/python3.9/site-packages/sklearn/svm/_base.py:1244: ConvergenceWarning: Liblinear failed to converge, increase the number of iterations.\n",
      "  warnings.warn(\n",
      "/home/msds2023/mmenorca/.local/lib/python3.9/site-packages/sklearn/svm/_base.py:1244: ConvergenceWarning: Liblinear failed to converge, increase the number of iterations.\n",
      "  warnings.warn(\n",
      "/home/msds2023/mmenorca/.local/lib/python3.9/site-packages/sklearn/svm/_base.py:1244: ConvergenceWarning: Liblinear failed to converge, increase the number of iterations.\n",
      "  warnings.warn(\n",
      "/home/msds2023/mmenorca/.local/lib/python3.9/site-packages/sklearn/svm/_base.py:1244: ConvergenceWarning: Liblinear failed to converge, increase the number of iterations.\n",
      "  warnings.warn(\n",
      "/home/msds2023/mmenorca/.local/lib/python3.9/site-packages/sklearn/svm/_base.py:1244: ConvergenceWarning: Liblinear failed to converge, increase the number of iterations.\n",
      "  warnings.warn(\n",
      "/home/msds2023/mmenorca/.local/lib/python3.9/site-packages/sklearn/svm/_base.py:1244: ConvergenceWarning: Liblinear failed to converge, increase the number of iterations.\n",
      "  warnings.warn(\n",
      "/home/msds2023/mmenorca/.local/lib/python3.9/site-packages/sklearn/svm/_base.py:1244: ConvergenceWarning: Liblinear failed to converge, increase the number of iterations.\n",
      "  warnings.warn(\n",
      "/home/msds2023/mmenorca/.local/lib/python3.9/site-packages/sklearn/svm/_base.py:1244: ConvergenceWarning: Liblinear failed to converge, increase the number of iterations.\n",
      "  warnings.warn(\n",
      "/home/msds2023/mmenorca/.local/lib/python3.9/site-packages/sklearn/svm/_base.py:1244: ConvergenceWarning: Liblinear failed to converge, increase the number of iterations.\n",
      "  warnings.warn(\n",
      "/home/msds2023/mmenorca/.local/lib/python3.9/site-packages/sklearn/svm/_base.py:1244: ConvergenceWarning: Liblinear failed to converge, increase the number of iterations.\n",
      "  warnings.warn(\n",
      "/home/msds2023/mmenorca/.local/lib/python3.9/site-packages/sklearn/svm/_base.py:1244: ConvergenceWarning: Liblinear failed to converge, increase the number of iterations.\n",
      "  warnings.warn(\n",
      "/home/msds2023/mmenorca/.local/lib/python3.9/site-packages/sklearn/svm/_base.py:1244: ConvergenceWarning: Liblinear failed to converge, increase the number of iterations.\n",
      "  warnings.warn(\n",
      "/home/msds2023/mmenorca/.local/lib/python3.9/site-packages/sklearn/svm/_base.py:1244: ConvergenceWarning: Liblinear failed to converge, increase the number of iterations.\n",
      "  warnings.warn(\n",
      "/home/msds2023/mmenorca/.local/lib/python3.9/site-packages/sklearn/svm/_base.py:1244: ConvergenceWarning: Liblinear failed to converge, increase the number of iterations.\n",
      "  warnings.warn(\n",
      "/home/msds2023/mmenorca/.local/lib/python3.9/site-packages/sklearn/svm/_base.py:1244: ConvergenceWarning: Liblinear failed to converge, increase the number of iterations.\n",
      "  warnings.warn(\n",
      "/home/msds2023/mmenorca/.local/lib/python3.9/site-packages/sklearn/svm/_base.py:1244: ConvergenceWarning: Liblinear failed to converge, increase the number of iterations.\n",
      "  warnings.warn(\n",
      "/home/msds2023/mmenorca/.local/lib/python3.9/site-packages/sklearn/svm/_base.py:1244: ConvergenceWarning: Liblinear failed to converge, increase the number of iterations.\n",
      "  warnings.warn(\n",
      "/home/msds2023/mmenorca/.local/lib/python3.9/site-packages/sklearn/svm/_base.py:1244: ConvergenceWarning: Liblinear failed to converge, increase the number of iterations.\n",
      "  warnings.warn(\n",
      "/home/msds2023/mmenorca/.local/lib/python3.9/site-packages/sklearn/svm/_base.py:1244: ConvergenceWarning: Liblinear failed to converge, increase the number of iterations.\n",
      "  warnings.warn(\n",
      "/home/msds2023/mmenorca/.local/lib/python3.9/site-packages/sklearn/svm/_base.py:1244: ConvergenceWarning: Liblinear failed to converge, increase the number of iterations.\n",
      "  warnings.warn(\n",
      "/home/msds2023/mmenorca/.local/lib/python3.9/site-packages/sklearn/svm/_base.py:1244: ConvergenceWarning: Liblinear failed to converge, increase the number of iterations.\n",
      "  warnings.warn(\n",
      "/home/msds2023/mmenorca/.local/lib/python3.9/site-packages/sklearn/svm/_base.py:1244: ConvergenceWarning: Liblinear failed to converge, increase the number of iterations.\n",
      "  warnings.warn(\n",
      "/home/msds2023/mmenorca/.local/lib/python3.9/site-packages/sklearn/svm/_base.py:1244: ConvergenceWarning: Liblinear failed to converge, increase the number of iterations.\n",
      "  warnings.warn(\n",
      "/home/msds2023/mmenorca/.local/lib/python3.9/site-packages/sklearn/svm/_base.py:1244: ConvergenceWarning: Liblinear failed to converge, increase the number of iterations.\n",
      "  warnings.warn(\n",
      "/home/msds2023/mmenorca/.local/lib/python3.9/site-packages/sklearn/svm/_base.py:1244: ConvergenceWarning: Liblinear failed to converge, increase the number of iterations.\n",
      "  warnings.warn(\n",
      "/home/msds2023/mmenorca/.local/lib/python3.9/site-packages/sklearn/svm/_base.py:1244: ConvergenceWarning: Liblinear failed to converge, increase the number of iterations.\n",
      "  warnings.warn(\n",
      "/home/msds2023/mmenorca/.local/lib/python3.9/site-packages/sklearn/svm/_base.py:1244: ConvergenceWarning: Liblinear failed to converge, increase the number of iterations.\n",
      "  warnings.warn(\n",
      "/home/msds2023/mmenorca/.local/lib/python3.9/site-packages/sklearn/svm/_base.py:1244: ConvergenceWarning: Liblinear failed to converge, increase the number of iterations.\n",
      "  warnings.warn(\n",
      "/home/msds2023/mmenorca/.local/lib/python3.9/site-packages/sklearn/svm/_base.py:1244: ConvergenceWarning: Liblinear failed to converge, increase the number of iterations.\n",
      "  warnings.warn(\n",
      "/home/msds2023/mmenorca/.local/lib/python3.9/site-packages/sklearn/svm/_base.py:1244: ConvergenceWarning: Liblinear failed to converge, increase the number of iterations.\n",
      "  warnings.warn(\n",
      "/home/msds2023/mmenorca/.local/lib/python3.9/site-packages/sklearn/svm/_base.py:1244: ConvergenceWarning: Liblinear failed to converge, increase the number of iterations.\n",
      "  warnings.warn(\n",
      "/home/msds2023/mmenorca/.local/lib/python3.9/site-packages/sklearn/svm/_base.py:1244: ConvergenceWarning: Liblinear failed to converge, increase the number of iterations.\n",
      "  warnings.warn(\n",
      "/home/msds2023/mmenorca/.local/lib/python3.9/site-packages/sklearn/svm/_base.py:1244: ConvergenceWarning: Liblinear failed to converge, increase the number of iterations.\n",
      "  warnings.warn(\n",
      "/home/msds2023/mmenorca/.local/lib/python3.9/site-packages/sklearn/svm/_base.py:1244: ConvergenceWarning: Liblinear failed to converge, increase the number of iterations.\n",
      "  warnings.warn(\n",
      "/home/msds2023/mmenorca/.local/lib/python3.9/site-packages/sklearn/svm/_base.py:1244: ConvergenceWarning: Liblinear failed to converge, increase the number of iterations.\n",
      "  warnings.warn(\n",
      "/home/msds2023/mmenorca/.local/lib/python3.9/site-packages/sklearn/svm/_base.py:1244: ConvergenceWarning: Liblinear failed to converge, increase the number of iterations.\n",
      "  warnings.warn(\n",
      "/home/msds2023/mmenorca/.local/lib/python3.9/site-packages/sklearn/svm/_base.py:1244: ConvergenceWarning: Liblinear failed to converge, increase the number of iterations.\n",
      "  warnings.warn(\n",
      "/home/msds2023/mmenorca/.local/lib/python3.9/site-packages/sklearn/svm/_base.py:1244: ConvergenceWarning: Liblinear failed to converge, increase the number of iterations.\n",
      "  warnings.warn(\n",
      "/home/msds2023/mmenorca/.local/lib/python3.9/site-packages/sklearn/svm/_base.py:1244: ConvergenceWarning: Liblinear failed to converge, increase the number of iterations.\n",
      "  warnings.warn(\n",
      "/home/msds2023/mmenorca/.local/lib/python3.9/site-packages/sklearn/svm/_base.py:1244: ConvergenceWarning: Liblinear failed to converge, increase the number of iterations.\n",
      "  warnings.warn(\n",
      "/home/msds2023/mmenorca/.local/lib/python3.9/site-packages/sklearn/svm/_base.py:1244: ConvergenceWarning: Liblinear failed to converge, increase the number of iterations.\n",
      "  warnings.warn(\n",
      "/home/msds2023/mmenorca/.local/lib/python3.9/site-packages/sklearn/svm/_base.py:1244: ConvergenceWarning: Liblinear failed to converge, increase the number of iterations.\n",
      "  warnings.warn(\n",
      "/home/msds2023/mmenorca/.local/lib/python3.9/site-packages/sklearn/svm/_base.py:1244: ConvergenceWarning: Liblinear failed to converge, increase the number of iterations.\n",
      "  warnings.warn(\n",
      "/home/msds2023/mmenorca/.local/lib/python3.9/site-packages/sklearn/svm/_base.py:1244: ConvergenceWarning: Liblinear failed to converge, increase the number of iterations.\n",
      "  warnings.warn(\n",
      "/home/msds2023/mmenorca/.local/lib/python3.9/site-packages/sklearn/svm/_base.py:1244: ConvergenceWarning: Liblinear failed to converge, increase the number of iterations.\n",
      "  warnings.warn(\n",
      "/home/msds2023/mmenorca/.local/lib/python3.9/site-packages/sklearn/svm/_base.py:1244: ConvergenceWarning: Liblinear failed to converge, increase the number of iterations.\n",
      "  warnings.warn(\n",
      "/home/msds2023/mmenorca/.local/lib/python3.9/site-packages/sklearn/svm/_base.py:1244: ConvergenceWarning: Liblinear failed to converge, increase the number of iterations.\n",
      "  warnings.warn(\n",
      "/home/msds2023/mmenorca/.local/lib/python3.9/site-packages/sklearn/svm/_base.py:1244: ConvergenceWarning: Liblinear failed to converge, increase the number of iterations.\n",
      "  warnings.warn(\n",
      "/home/msds2023/mmenorca/.local/lib/python3.9/site-packages/sklearn/svm/_base.py:1244: ConvergenceWarning: Liblinear failed to converge, increase the number of iterations.\n",
      "  warnings.warn(\n",
      "/home/msds2023/mmenorca/.local/lib/python3.9/site-packages/sklearn/svm/_base.py:1244: ConvergenceWarning: Liblinear failed to converge, increase the number of iterations.\n",
      "  warnings.warn(\n",
      "/home/msds2023/mmenorca/.local/lib/python3.9/site-packages/sklearn/svm/_base.py:1244: ConvergenceWarning: Liblinear failed to converge, increase the number of iterations.\n",
      "  warnings.warn(\n",
      "/home/msds2023/mmenorca/.local/lib/python3.9/site-packages/sklearn/svm/_base.py:1244: ConvergenceWarning: Liblinear failed to converge, increase the number of iterations.\n",
      "  warnings.warn(\n",
      "/home/msds2023/mmenorca/.local/lib/python3.9/site-packages/sklearn/svm/_base.py:1244: ConvergenceWarning: Liblinear failed to converge, increase the number of iterations.\n",
      "  warnings.warn(\n",
      "/home/msds2023/mmenorca/.local/lib/python3.9/site-packages/sklearn/svm/_base.py:1244: ConvergenceWarning: Liblinear failed to converge, increase the number of iterations.\n",
      "  warnings.warn(\n",
      "/home/msds2023/mmenorca/.local/lib/python3.9/site-packages/sklearn/svm/_base.py:1244: ConvergenceWarning: Liblinear failed to converge, increase the number of iterations.\n",
      "  warnings.warn(\n",
      "/home/msds2023/mmenorca/.local/lib/python3.9/site-packages/sklearn/svm/_base.py:1244: ConvergenceWarning: Liblinear failed to converge, increase the number of iterations.\n",
      "  warnings.warn(\n",
      "/home/msds2023/mmenorca/.local/lib/python3.9/site-packages/sklearn/svm/_base.py:1244: ConvergenceWarning: Liblinear failed to converge, increase the number of iterations.\n",
      "  warnings.warn(\n",
      "/home/msds2023/mmenorca/.local/lib/python3.9/site-packages/sklearn/svm/_base.py:1244: ConvergenceWarning: Liblinear failed to converge, increase the number of iterations.\n",
      "  warnings.warn(\n",
      "/home/msds2023/mmenorca/.local/lib/python3.9/site-packages/sklearn/svm/_base.py:1244: ConvergenceWarning: Liblinear failed to converge, increase the number of iterations.\n",
      "  warnings.warn(\n",
      "/home/msds2023/mmenorca/.local/lib/python3.9/site-packages/sklearn/svm/_base.py:1244: ConvergenceWarning: Liblinear failed to converge, increase the number of iterations.\n",
      "  warnings.warn(\n",
      "/home/msds2023/mmenorca/.local/lib/python3.9/site-packages/sklearn/svm/_base.py:1244: ConvergenceWarning: Liblinear failed to converge, increase the number of iterations.\n",
      "  warnings.warn(\n",
      "/home/msds2023/mmenorca/.local/lib/python3.9/site-packages/sklearn/svm/_base.py:1244: ConvergenceWarning: Liblinear failed to converge, increase the number of iterations.\n",
      "  warnings.warn(\n",
      "/home/msds2023/mmenorca/.local/lib/python3.9/site-packages/sklearn/svm/_base.py:1244: ConvergenceWarning: Liblinear failed to converge, increase the number of iterations.\n",
      "  warnings.warn(\n",
      "/home/msds2023/mmenorca/.local/lib/python3.9/site-packages/sklearn/svm/_base.py:1244: ConvergenceWarning: Liblinear failed to converge, increase the number of iterations.\n",
      "  warnings.warn(\n",
      "/home/msds2023/mmenorca/.local/lib/python3.9/site-packages/sklearn/svm/_base.py:1244: ConvergenceWarning: Liblinear failed to converge, increase the number of iterations.\n",
      "  warnings.warn(\n",
      "/home/msds2023/mmenorca/.local/lib/python3.9/site-packages/sklearn/svm/_base.py:1244: ConvergenceWarning: Liblinear failed to converge, increase the number of iterations.\n",
      "  warnings.warn(\n",
      "/home/msds2023/mmenorca/.local/lib/python3.9/site-packages/sklearn/svm/_base.py:1244: ConvergenceWarning: Liblinear failed to converge, increase the number of iterations.\n",
      "  warnings.warn(\n",
      "/home/msds2023/mmenorca/.local/lib/python3.9/site-packages/sklearn/svm/_base.py:1244: ConvergenceWarning: Liblinear failed to converge, increase the number of iterations.\n",
      "  warnings.warn(\n",
      "/home/msds2023/mmenorca/.local/lib/python3.9/site-packages/sklearn/svm/_base.py:1244: ConvergenceWarning: Liblinear failed to converge, increase the number of iterations.\n",
      "  warnings.warn(\n",
      "/home/msds2023/mmenorca/.local/lib/python3.9/site-packages/sklearn/svm/_base.py:1244: ConvergenceWarning: Liblinear failed to converge, increase the number of iterations.\n",
      "  warnings.warn(\n",
      "/home/msds2023/mmenorca/.local/lib/python3.9/site-packages/sklearn/svm/_base.py:1244: ConvergenceWarning: Liblinear failed to converge, increase the number of iterations.\n",
      "  warnings.warn(\n",
      "/home/msds2023/mmenorca/.local/lib/python3.9/site-packages/sklearn/svm/_base.py:1244: ConvergenceWarning: Liblinear failed to converge, increase the number of iterations.\n",
      "  warnings.warn(\n",
      "/home/msds2023/mmenorca/.local/lib/python3.9/site-packages/sklearn/metrics/_classification.py:1344: UndefinedMetricWarning: Precision is ill-defined and being set to 0.0 due to no predicted samples. Use `zero_division` parameter to control this behavior.\n",
      "  _warn_prf(average, modifier, msg_start, len(result))\n",
      "/home/msds2023/mmenorca/.local/lib/python3.9/site-packages/sklearn/svm/_base.py:1244: ConvergenceWarning: Liblinear failed to converge, increase the number of iterations.\n",
      "  warnings.warn(\n",
      "/home/msds2023/mmenorca/.local/lib/python3.9/site-packages/sklearn/svm/_base.py:1244: ConvergenceWarning: Liblinear failed to converge, increase the number of iterations.\n",
      "  warnings.warn(\n",
      "/home/msds2023/mmenorca/.local/lib/python3.9/site-packages/sklearn/svm/_base.py:1244: ConvergenceWarning: Liblinear failed to converge, increase the number of iterations.\n",
      "  warnings.warn(\n",
      "/home/msds2023/mmenorca/.local/lib/python3.9/site-packages/sklearn/svm/_base.py:1244: ConvergenceWarning: Liblinear failed to converge, increase the number of iterations.\n",
      "  warnings.warn(\n",
      "/home/msds2023/mmenorca/.local/lib/python3.9/site-packages/sklearn/svm/_base.py:1244: ConvergenceWarning: Liblinear failed to converge, increase the number of iterations.\n",
      "  warnings.warn(\n"
     ]
    },
    {
     "name": "stdout",
     "output_type": "stream",
     "text": [
      "Fitting 5 folds for each of 16 candidates, totalling 80 fits\n",
      "Fitting 5 folds for each of 16 candidates, totalling 80 fits\n"
     ]
    }
   ],
   "source": [
    "# Define the pipeline for each model\n",
    "logl1 = Pipeline((\n",
    "                    ('scaler', RobustScaler()),\n",
    "                    ('m', LogisticRegression(penalty='l1',\n",
    "                                               solver='liblinear',\n",
    "                                               max_iter=500_000))\n",
    "                 ))\n",
    "svc = Pipeline((\n",
    "                ('scaler', RobustScaler()),\n",
    "                ('m', LinearSVC(penalty='l2'))\n",
    "               ))\n",
    "\n",
    "rf = Pipeline((\n",
    "                ('scaler', RobustScaler()),\n",
    "                ('m', RandomForestClassifier(random_state=randstate,\n",
    "                                             n_estimators=250))\n",
    "               ))\n",
    "gb = Pipeline((\n",
    "                ('scaler', RobustScaler()),\n",
    "                ('m', GradientBoostingClassifier(random_state=randstate,\n",
    "                                                 n_estimators=250))\n",
    "               ))\n",
    "\n",
    "# Define parameters of each model\n",
    "depth = [3, 5, 7, 10]\n",
    "max_features = sorted([0.3, 0.5, 0.7, 0.9])\n",
    "C = sorted([1e-8, 1e-4, 1e-3, 1e-2, 0.1, 0.2, 0.4, 0.75, 1, 1.5, 3,\n",
    "            5, 10, 15, 20, 100, 300])\n",
    "\n",
    "params_logl1 = {'m__C': C} \n",
    "params_svc = {'m__C': C}\n",
    "params_rf = {'m__max_depth': depth,\n",
    "             'm__max_features': max_features}\n",
    "params_gb = {'m__max_depth': depth,\n",
    "             'm__max_features': max_features}\n",
    "\n",
    "\n",
    "# Tune the hyperparameters of each model\n",
    "models = ['LassoClassifier', 'LinearSVC',\n",
    "          'RandomForestClassifier', 'GradientBoostingClassifier']\n",
    "pipes_model = [logl1, svc, rf, gb]\n",
    "params_model = [params_logl1, params_svc, params_rf, params_gb]\n",
    "print(f'Pipes: {len(pipes_model)} -- Params: {len(params_model)}')\n",
    "\n",
    "kfolds = 5\n",
    "\n",
    "# Perform hyperparameter tuning on different models\n",
    "scoring = ['accuracy', 'recall', 'precision']\n",
    "\n",
    "time_lst = []\n",
    "gscv_lst = []\n",
    "for idx, m in enumerate(models):\n",
    "    start = time.time()\n",
    "    gscv_model = tune_pred_model(pipes_model[idx],\n",
    "                             params_model[idx],\n",
    "                             kfolds,\n",
    "                             scoring,\n",
    "                             refit=True)\n",
    "    gscv_model.fit(x_trainval, y_trainval)\n",
    "    gscv_lst.append(gscv_model)\n",
    "    time_lst.append(start - time.time())\n",
    "    \n",
    "# Collate the results of each of the Classifiers\n",
    "res_dict = {}\n",
    "\n",
    "for idx, cv in enumerate(gscv_lst):\n",
    "    cv_results = cv.__dict__['cv_results_']\n",
    "    \n",
    "    optim_idx = cv.best_index_\n",
    "    res_dict[models[idx]] = {'avg_fit_time': cv_results['mean_fit_time'][optim_idx],\n",
    "                             'avg_train_accuracy': 100*cv_results['mean_train_accuracy'][optim_idx],\n",
    "                             'avg_train_recall': 100*cv_results['mean_train_recall'][optim_idx],\n",
    "                             'avg_train_precision': 100*cv_results['mean_train_precision'][optim_idx],\n",
    "                             'avg_val_accuracy': 100*cv_results['mean_test_accuracy'][optim_idx],\n",
    "                             'avg_val_recall': 100*cv_results['mean_test_recall'][optim_idx],\n",
    "                             'avg_val_precision': 100*cv_results['mean_test_precision'][optim_idx],\n",
    "                             'best_params': cv.best_params_}"
   ]
  },
  {
   "cell_type": "markdown",
   "id": "b31d92d9",
   "metadata": {},
   "source": [
    "**Resampling**\n",
    "\n",
    "&emsp;Since the dataset is moderately imbalanced, resampling was added in the pipeline. The best resampling method to use with the best predictive model identified in the previous step was determined based on the same metric, recall. Two resampling methods (`SMOTENC` and `ADASYN`), that were deemed to work best on data with mixed numerical and categorical features were tested.\n",
    "\n",
    "&emsp;Similarly, the model with the best resampling method was then tuned to get the hyperparameters that would give the best results on average within 5 trials."
   ]
  },
  {
   "cell_type": "code",
   "execution_count": 21,
   "id": "d14f3966",
   "metadata": {
    "ExecuteTime": {
     "end_time": "2023-03-20T15:37:48.542208Z",
     "start_time": "2023-03-20T15:37:48.530278Z"
    }
   },
   "outputs": [],
   "source": [
    "def tune_resampler(nsplits, resamplers_dict, x_trainval, y_trainval,\n",
    "                   scaler, best_pred_model):\n",
    "    \"\"\"\n",
    "    Return the average accuracy, precision, and recall scores of\n",
    "    different resampling methods.\n",
    "    \"\"\"\n",
    "    skf = StratifiedKFold(n_splits=nsplits)\n",
    "    res = {}\n",
    "    raw_res = {}\n",
    "\n",
    "    for resampler_name, resampler in tqdm(resamplers_dict.items()):\n",
    "\n",
    "        train_acc = []\n",
    "        val_acc = []\n",
    "        train_recall = []\n",
    "        val_recall = []\n",
    "        train_precision = []\n",
    "        val_precision = []\n",
    "\n",
    "        for train_idx, val_idx in skf.split(x_trainval, y_trainval):\n",
    "            x_train, y_train = x_trainval.iloc[train_idx], y_trainval.iloc[train_idx]\n",
    "            x_val, y_val = x_trainval.iloc[val_idx], y_trainval.iloc[val_idx]\n",
    "\n",
    "            # Define pipeline\n",
    "            steps = [('scaler', scaler),\n",
    "                     (resampler_name, resampler),\n",
    "                     ('model', best_pred_model)]\n",
    "            pipeline = Pipeline(steps)\n",
    "            pipeline.fit(x_train, y_train)\n",
    "\n",
    "            # Predict\n",
    "            train_pred = pipeline.predict(x_train)\n",
    "            val_pred = pipeline.predict(x_val)\n",
    "\n",
    "            # Evaluate predictions\n",
    "            train_acc.append(accuracy_score(y_train, train_pred))\n",
    "            val_acc.append(accuracy_score(y_val, val_pred))\n",
    "            train_recall.append(recall_score(y_train, train_pred))\n",
    "            val_recall.append(recall_score(y_val, val_pred))\n",
    "            train_precision.append(precision_score(y_train, train_pred))\n",
    "            val_precision.append(precision_score(y_val, val_pred))\n",
    "\n",
    "        # Get the average of each metric\n",
    "        res[resampler_name] = {\n",
    "                                'avg_train_accuracy': 100*np.mean(train_acc),\n",
    "                                'avg_train_recall': 100*np.mean(train_recall),\n",
    "                                'avg_train_precision': 100*np.mean(train_precision),\n",
    "                                'avg_val_accuracy': 100*np.mean(val_acc),\n",
    "                                'avg_val_recall': 100*np.mean(val_recall),\n",
    "                                'avg_val_precision': 100*np.mean(val_precision)\n",
    "                              }\n",
    "\n",
    "    return res"
   ]
  },
  {
   "cell_type": "code",
   "execution_count": 22,
   "id": "44a795b9",
   "metadata": {
    "ExecuteTime": {
     "end_time": "2023-03-20T15:37:48.555004Z",
     "start_time": "2023-03-20T15:37:48.544576Z"
    }
   },
   "outputs": [],
   "source": [
    "# Define categorical features without the target\n",
    "cat_enc_features = list(set(x.columns) - set(x.loc[:, numerical].columns))\n",
    "cat_enc_features_idx = [x.columns.get_loc(i) for i in cat_enc_features]\n",
    "\n",
    "# Define the different resampling methods to use\n",
    "resamplers_dict = {'SMOTENC': SMOTENC(random_state=randstate,\n",
    "                                      categorical_features=cat_enc_features_idx), \n",
    "                   'ADASYN': ADASYN(random_state=randstate)}"
   ]
  },
  {
   "cell_type": "markdown",
   "id": "f469f257",
   "metadata": {},
   "source": [
    "***\n",
    "<h2 style=\"color: #1048CB\"><b>Post-hoc Explainability Methods</b></h2>"
   ]
  },
  {
   "cell_type": "markdown",
   "id": "1f9d8e41",
   "metadata": {},
   "source": [
    "**SHapley Additive exPlainations (SHAP)**\n",
    "\n",
    "<p style=\"text-align: justify\"> &emsp;SHAP calculates the marginal contribution of each feature to the prediction [2]. It is based on the concept of game theory which aims to figure out how to distribute a gain of a coalition fairly by considering the output of each possible combination of players [3]. SHAP can determine the most important features and their influence on the model prediction. </p>"
   ]
  },
  {
   "cell_type": "markdown",
   "id": "d8be45ab",
   "metadata": {},
   "source": [
    "**Diverse Counterfactual Explainations (DiCE)**\n",
    "\n",
    "&emsp;Counterfactuals provide explanations that describe the smallest changes one can do to a feature to change the prediction to the desired output [3]. These are conditional sentences which discuss what would have been true under different circumstances, e.g. \"If Peter believed in ghosts, he would be afraid to be here.\" Counterfactuals are contrasted with indicatives, which are generally restricted to discussing open possibilities. They are characterized grammatically by their use of fake tense morphology, which some languages use in combination with other kinds of morphology including aspect and mood. In this project, we used `DiCE` [4], a Python package to generate these counterfactual explanations."
   ]
  },
  {
   "cell_type": "markdown",
   "id": "70a7ccf8",
   "metadata": {},
   "source": [
    "***\n",
    "\n",
    "<h1 style=\"color: #1048CB\"><b>VII. Results</b></h1>"
   ]
  },
  {
   "cell_type": "markdown",
   "id": "9d29078b",
   "metadata": {},
   "source": [
    "***\n",
    "<h2 style=\"color: #1048CB\"><b>Best Predictive Model</b></h2>\n",
    "\n",
    "<p style=\"text-align: justify\"> &emsp; With an average validation recall of 60.9%, the best predictive model is a Random Forest Classifier with a maximum depth of 5, maximum features of 0.7, and 250 estimators. </p>"
   ]
  },
  {
   "cell_type": "code",
   "execution_count": 23,
   "id": "fdd8ee8f",
   "metadata": {
    "ExecuteTime": {
     "end_time": "2023-03-20T15:37:48.581369Z",
     "start_time": "2023-03-20T15:37:48.557106Z"
    }
   },
   "outputs": [
    {
     "data": {
      "text/html": [
       "<div>\n",
       "<style scoped>\n",
       "    .dataframe tbody tr th:only-of-type {\n",
       "        vertical-align: middle;\n",
       "    }\n",
       "\n",
       "    .dataframe tbody tr th {\n",
       "        vertical-align: top;\n",
       "    }\n",
       "\n",
       "    .dataframe thead th {\n",
       "        text-align: right;\n",
       "    }\n",
       "</style>\n",
       "<table border=\"1\" class=\"dataframe\">\n",
       "  <thead>\n",
       "    <tr style=\"text-align: right;\">\n",
       "      <th></th>\n",
       "      <th>avg_fit_time</th>\n",
       "      <th>avg_train_accuracy</th>\n",
       "      <th>avg_train_recall</th>\n",
       "      <th>avg_train_precision</th>\n",
       "      <th>avg_val_accuracy</th>\n",
       "      <th>avg_val_recall</th>\n",
       "      <th>avg_val_precision</th>\n",
       "      <th>best_params</th>\n",
       "    </tr>\n",
       "  </thead>\n",
       "  <tbody>\n",
       "    <tr>\n",
       "      <th>RandomForestClassifier</th>\n",
       "      <td>3.45879</td>\n",
       "      <td>91.593168</td>\n",
       "      <td>64.810489</td>\n",
       "      <td>77.195906</td>\n",
       "      <td>90.389261</td>\n",
       "      <td>60.875174</td>\n",
       "      <td>72.931967</td>\n",
       "      <td>{'m__max_depth': 5, 'm__max_features': 0.7}</td>\n",
       "    </tr>\n",
       "    <tr>\n",
       "      <th>GradientBoostingClassifier</th>\n",
       "      <td>3.794889</td>\n",
       "      <td>94.107365</td>\n",
       "      <td>73.83722</td>\n",
       "      <td>86.092312</td>\n",
       "      <td>89.983787</td>\n",
       "      <td>60.418301</td>\n",
       "      <td>70.808698</td>\n",
       "      <td>{'m__max_depth': 3, 'm__max_features': 0.9}</td>\n",
       "    </tr>\n",
       "    <tr>\n",
       "      <th>LassoClassifier</th>\n",
       "      <td>0.051851</td>\n",
       "      <td>88.082923</td>\n",
       "      <td>58.191458</td>\n",
       "      <td>62.294559</td>\n",
       "      <td>88.05757</td>\n",
       "      <td>58.127933</td>\n",
       "      <td>62.29934</td>\n",
       "      <td>{'m__C': 0.0001}</td>\n",
       "    </tr>\n",
       "    <tr>\n",
       "      <th>LinearSVC</th>\n",
       "      <td>0.066479</td>\n",
       "      <td>88.20458</td>\n",
       "      <td>57.863831</td>\n",
       "      <td>62.917861</td>\n",
       "      <td>88.229881</td>\n",
       "      <td>57.931426</td>\n",
       "      <td>63.050377</td>\n",
       "      <td>{'m__C': 1e-08}</td>\n",
       "    </tr>\n",
       "  </tbody>\n",
       "</table>\n",
       "</div>"
      ],
      "text/plain": [
       "                           avg_fit_time avg_train_accuracy avg_train_recall  \\\n",
       "RandomForestClassifier          3.45879          91.593168        64.810489   \n",
       "GradientBoostingClassifier     3.794889          94.107365         73.83722   \n",
       "LassoClassifier                0.051851          88.082923        58.191458   \n",
       "LinearSVC                      0.066479           88.20458        57.863831   \n",
       "\n",
       "                           avg_train_precision avg_val_accuracy  \\\n",
       "RandomForestClassifier               77.195906        90.389261   \n",
       "GradientBoostingClassifier           86.092312        89.983787   \n",
       "LassoClassifier                      62.294559         88.05757   \n",
       "LinearSVC                            62.917861        88.229881   \n",
       "\n",
       "                           avg_val_recall avg_val_precision  \\\n",
       "RandomForestClassifier          60.875174         72.931967   \n",
       "GradientBoostingClassifier      60.418301         70.808698   \n",
       "LassoClassifier                 58.127933          62.29934   \n",
       "LinearSVC                       57.931426         63.050377   \n",
       "\n",
       "                                                            best_params  \n",
       "RandomForestClassifier      {'m__max_depth': 5, 'm__max_features': 0.7}  \n",
       "GradientBoostingClassifier  {'m__max_depth': 3, 'm__max_features': 0.9}  \n",
       "LassoClassifier                                        {'m__C': 0.0001}  \n",
       "LinearSVC                                               {'m__C': 1e-08}  "
      ]
     },
     "execution_count": 23,
     "metadata": {},
     "output_type": "execute_result"
    }
   ],
   "source": [
    "df_pred_res = (pd.DataFrame(res_dict).T\n",
    "                .sort_values(by=['avg_val_recall', 'avg_val_precision', 'avg_val_accuracy'],\n",
    "                             ascending=[False, False, False]))\n",
    "df_pred_res.head()"
   ]
  },
  {
   "cell_type": "code",
   "execution_count": 24,
   "id": "4e6fc7e1",
   "metadata": {
    "ExecuteTime": {
     "end_time": "2023-03-20T15:37:48.600274Z",
     "start_time": "2023-03-20T15:37:48.584485Z"
    }
   },
   "outputs": [
    {
     "data": {
      "text/html": [
       "<style>#sk-container-id-1 {color: black;background-color: white;}#sk-container-id-1 pre{padding: 0;}#sk-container-id-1 div.sk-toggleable {background-color: white;}#sk-container-id-1 label.sk-toggleable__label {cursor: pointer;display: block;width: 100%;margin-bottom: 0;padding: 0.3em;box-sizing: border-box;text-align: center;}#sk-container-id-1 label.sk-toggleable__label-arrow:before {content: \"▸\";float: left;margin-right: 0.25em;color: #696969;}#sk-container-id-1 label.sk-toggleable__label-arrow:hover:before {color: black;}#sk-container-id-1 div.sk-estimator:hover label.sk-toggleable__label-arrow:before {color: black;}#sk-container-id-1 div.sk-toggleable__content {max-height: 0;max-width: 0;overflow: hidden;text-align: left;background-color: #f0f8ff;}#sk-container-id-1 div.sk-toggleable__content pre {margin: 0.2em;color: black;border-radius: 0.25em;background-color: #f0f8ff;}#sk-container-id-1 input.sk-toggleable__control:checked~div.sk-toggleable__content {max-height: 200px;max-width: 100%;overflow: auto;}#sk-container-id-1 input.sk-toggleable__control:checked~label.sk-toggleable__label-arrow:before {content: \"▾\";}#sk-container-id-1 div.sk-estimator input.sk-toggleable__control:checked~label.sk-toggleable__label {background-color: #d4ebff;}#sk-container-id-1 div.sk-label input.sk-toggleable__control:checked~label.sk-toggleable__label {background-color: #d4ebff;}#sk-container-id-1 input.sk-hidden--visually {border: 0;clip: rect(1px 1px 1px 1px);clip: rect(1px, 1px, 1px, 1px);height: 1px;margin: -1px;overflow: hidden;padding: 0;position: absolute;width: 1px;}#sk-container-id-1 div.sk-estimator {font-family: monospace;background-color: #f0f8ff;border: 1px dotted black;border-radius: 0.25em;box-sizing: border-box;margin-bottom: 0.5em;}#sk-container-id-1 div.sk-estimator:hover {background-color: #d4ebff;}#sk-container-id-1 div.sk-parallel-item::after {content: \"\";width: 100%;border-bottom: 1px solid gray;flex-grow: 1;}#sk-container-id-1 div.sk-label:hover label.sk-toggleable__label {background-color: #d4ebff;}#sk-container-id-1 div.sk-serial::before {content: \"\";position: absolute;border-left: 1px solid gray;box-sizing: border-box;top: 0;bottom: 0;left: 50%;z-index: 0;}#sk-container-id-1 div.sk-serial {display: flex;flex-direction: column;align-items: center;background-color: white;padding-right: 0.2em;padding-left: 0.2em;position: relative;}#sk-container-id-1 div.sk-item {position: relative;z-index: 1;}#sk-container-id-1 div.sk-parallel {display: flex;align-items: stretch;justify-content: center;background-color: white;position: relative;}#sk-container-id-1 div.sk-item::before, #sk-container-id-1 div.sk-parallel-item::before {content: \"\";position: absolute;border-left: 1px solid gray;box-sizing: border-box;top: 0;bottom: 0;left: 50%;z-index: -1;}#sk-container-id-1 div.sk-parallel-item {display: flex;flex-direction: column;z-index: 1;position: relative;background-color: white;}#sk-container-id-1 div.sk-parallel-item:first-child::after {align-self: flex-end;width: 50%;}#sk-container-id-1 div.sk-parallel-item:last-child::after {align-self: flex-start;width: 50%;}#sk-container-id-1 div.sk-parallel-item:only-child::after {width: 0;}#sk-container-id-1 div.sk-dashed-wrapped {border: 1px dashed gray;margin: 0 0.4em 0.5em 0.4em;box-sizing: border-box;padding-bottom: 0.4em;background-color: white;}#sk-container-id-1 div.sk-label label {font-family: monospace;font-weight: bold;display: inline-block;line-height: 1.2em;}#sk-container-id-1 div.sk-label-container {text-align: center;}#sk-container-id-1 div.sk-container {/* jupyter's `normalize.less` sets `[hidden] { display: none; }` but bootstrap.min.css set `[hidden] { display: none !important; }` so we also need the `!important` here to be able to override the default hidden behavior on the sphinx rendered scikit-learn.org. See: https://github.com/scikit-learn/scikit-learn/issues/21755 */display: inline-block !important;position: relative;}#sk-container-id-1 div.sk-text-repr-fallback {display: none;}</style><div id=\"sk-container-id-1\" class=\"sk-top-container\"><div class=\"sk-text-repr-fallback\"><pre>Pipeline(steps=[(&#x27;scaler&#x27;, RobustScaler()),\n",
       "                (&#x27;m&#x27;,\n",
       "                 RandomForestClassifier(max_depth=5, max_features=0.7,\n",
       "                                        n_estimators=250, random_state=143))])</pre><b>In a Jupyter environment, please rerun this cell to show the HTML representation or trust the notebook. <br />On GitHub, the HTML representation is unable to render, please try loading this page with nbviewer.org.</b></div><div class=\"sk-container\" hidden><div class=\"sk-item sk-dashed-wrapped\"><div class=\"sk-label-container\"><div class=\"sk-label sk-toggleable\"><input class=\"sk-toggleable__control sk-hidden--visually\" id=\"sk-estimator-id-1\" type=\"checkbox\" ><label for=\"sk-estimator-id-1\" class=\"sk-toggleable__label sk-toggleable__label-arrow\">Pipeline</label><div class=\"sk-toggleable__content\"><pre>Pipeline(steps=[(&#x27;scaler&#x27;, RobustScaler()),\n",
       "                (&#x27;m&#x27;,\n",
       "                 RandomForestClassifier(max_depth=5, max_features=0.7,\n",
       "                                        n_estimators=250, random_state=143))])</pre></div></div></div><div class=\"sk-serial\"><div class=\"sk-item\"><div class=\"sk-estimator sk-toggleable\"><input class=\"sk-toggleable__control sk-hidden--visually\" id=\"sk-estimator-id-2\" type=\"checkbox\" ><label for=\"sk-estimator-id-2\" class=\"sk-toggleable__label sk-toggleable__label-arrow\">RobustScaler</label><div class=\"sk-toggleable__content\"><pre>RobustScaler()</pre></div></div></div><div class=\"sk-item\"><div class=\"sk-estimator sk-toggleable\"><input class=\"sk-toggleable__control sk-hidden--visually\" id=\"sk-estimator-id-3\" type=\"checkbox\" ><label for=\"sk-estimator-id-3\" class=\"sk-toggleable__label sk-toggleable__label-arrow\">RandomForestClassifier</label><div class=\"sk-toggleable__content\"><pre>RandomForestClassifier(max_depth=5, max_features=0.7, n_estimators=250,\n",
       "                       random_state=143)</pre></div></div></div></div></div></div></div>"
      ],
      "text/plain": [
       "Pipeline(steps=[('scaler', RobustScaler()),\n",
       "                ('m',\n",
       "                 RandomForestClassifier(max_depth=5, max_features=0.7,\n",
       "                                        n_estimators=250, random_state=143))])"
      ]
     },
     "execution_count": 24,
     "metadata": {},
     "output_type": "execute_result"
    }
   ],
   "source": [
    "# Save the best predictive model\n",
    "best_pred_model = gscv_lst[models.index(df_pred_res.index[0])].best_estimator_\n",
    "best_pred_model"
   ]
  },
  {
   "cell_type": "markdown",
   "id": "cfeda355",
   "metadata": {},
   "source": [
    "***\n",
    "<h2 style=\"color: #1048CB\"><b>Best Resampling Method</b></h2>\n",
    "\n",
    "<p style=\"text-align: justify\"> &emsp;The best resampling method is ADASYN with an average validation recall of 84.0%. ADASYN was able to reduce the bias caused by the class imbalance in the dataset and had the advantage of shifting the classification boundary toward samples that are more difficult to learn. </p>"
   ]
  },
  {
   "cell_type": "code",
   "execution_count": 25,
   "id": "cdada082",
   "metadata": {
    "ExecuteTime": {
     "end_time": "2023-03-20T15:42:45.644309Z",
     "start_time": "2023-03-20T15:37:48.601915Z"
    }
   },
   "outputs": [
    {
     "name": "stderr",
     "output_type": "stream",
     "text": [
      "100%|██████████| 2/2 [04:57<00:00, 148.51s/it]\n"
     ]
    },
    {
     "data": {
      "text/html": [
       "<div>\n",
       "<style scoped>\n",
       "    .dataframe tbody tr th:only-of-type {\n",
       "        vertical-align: middle;\n",
       "    }\n",
       "\n",
       "    .dataframe tbody tr th {\n",
       "        vertical-align: top;\n",
       "    }\n",
       "\n",
       "    .dataframe thead th {\n",
       "        text-align: right;\n",
       "    }\n",
       "</style>\n",
       "<table border=\"1\" class=\"dataframe\">\n",
       "  <thead>\n",
       "    <tr style=\"text-align: right;\">\n",
       "      <th></th>\n",
       "      <th>avg_train_accuracy</th>\n",
       "      <th>avg_train_recall</th>\n",
       "      <th>avg_train_precision</th>\n",
       "      <th>avg_val_accuracy</th>\n",
       "      <th>avg_val_recall</th>\n",
       "      <th>avg_val_precision</th>\n",
       "    </tr>\n",
       "  </thead>\n",
       "  <tbody>\n",
       "    <tr>\n",
       "      <th>ADASYN</th>\n",
       "      <td>85.717975</td>\n",
       "      <td>86.806295</td>\n",
       "      <td>52.400487</td>\n",
       "      <td>84.914764</td>\n",
       "      <td>84.006708</td>\n",
       "      <td>50.856203</td>\n",
       "    </tr>\n",
       "    <tr>\n",
       "      <th>SMOTENC</th>\n",
       "      <td>87.959578</td>\n",
       "      <td>82.510451</td>\n",
       "      <td>57.780917</td>\n",
       "      <td>87.429042</td>\n",
       "      <td>81.386309</td>\n",
       "      <td>56.756800</td>\n",
       "    </tr>\n",
       "  </tbody>\n",
       "</table>\n",
       "</div>"
      ],
      "text/plain": [
       "         avg_train_accuracy  avg_train_recall  avg_train_precision  \\\n",
       "ADASYN            85.717975         86.806295            52.400487   \n",
       "SMOTENC           87.959578         82.510451            57.780917   \n",
       "\n",
       "         avg_val_accuracy  avg_val_recall  avg_val_precision  \n",
       "ADASYN          84.914764       84.006708          50.856203  \n",
       "SMOTENC         87.429042       81.386309          56.756800  "
      ]
     },
     "execution_count": 25,
     "metadata": {},
     "output_type": "execute_result"
    }
   ],
   "source": [
    "# Determine the best resampling method\n",
    "res_dict = tune_resampler(10, resamplers_dict, x_trainval, y_trainval,\n",
    "                           RobustScaler(), best_pred_model['m'])\n",
    "\n",
    "# Collate results into a pandas DataFrame\n",
    "df_resampled = pd.DataFrame(res_dict).T.sort_values('avg_val_recall', ascending=False)\n",
    "df_resampled.head()"
   ]
  },
  {
   "cell_type": "code",
   "execution_count": 26,
   "id": "983ef446",
   "metadata": {
    "ExecuteTime": {
     "end_time": "2023-03-20T15:42:45.650859Z",
     "start_time": "2023-03-20T15:42:45.647135Z"
    }
   },
   "outputs": [],
   "source": [
    "# Save the best resampling method\n",
    "best_resampler = resamplers_dict[df_resampled.index[0]]\n",
    "# best_resampler"
   ]
  },
  {
   "cell_type": "markdown",
   "id": "ac098fd3",
   "metadata": {},
   "source": [
    "After testing for different numbers of neighbors to consider in `ADASYN`, having 4 neighbors gave out the best recall and was thus considered for the final model pipeline."
   ]
  },
  {
   "cell_type": "code",
   "execution_count": 27,
   "id": "3d5d22d4",
   "metadata": {
    "ExecuteTime": {
     "end_time": "2023-03-20T15:45:41.859445Z",
     "start_time": "2023-03-20T15:42:45.652880Z"
    }
   },
   "outputs": [
    {
     "name": "stdout",
     "output_type": "stream",
     "text": [
      "Fitting 5 folds for each of 7 candidates, totalling 35 fits\n"
     ]
    },
    {
     "data": {
      "text/html": [
       "<style>#sk-container-id-2 {color: black;background-color: white;}#sk-container-id-2 pre{padding: 0;}#sk-container-id-2 div.sk-toggleable {background-color: white;}#sk-container-id-2 label.sk-toggleable__label {cursor: pointer;display: block;width: 100%;margin-bottom: 0;padding: 0.3em;box-sizing: border-box;text-align: center;}#sk-container-id-2 label.sk-toggleable__label-arrow:before {content: \"▸\";float: left;margin-right: 0.25em;color: #696969;}#sk-container-id-2 label.sk-toggleable__label-arrow:hover:before {color: black;}#sk-container-id-2 div.sk-estimator:hover label.sk-toggleable__label-arrow:before {color: black;}#sk-container-id-2 div.sk-toggleable__content {max-height: 0;max-width: 0;overflow: hidden;text-align: left;background-color: #f0f8ff;}#sk-container-id-2 div.sk-toggleable__content pre {margin: 0.2em;color: black;border-radius: 0.25em;background-color: #f0f8ff;}#sk-container-id-2 input.sk-toggleable__control:checked~div.sk-toggleable__content {max-height: 200px;max-width: 100%;overflow: auto;}#sk-container-id-2 input.sk-toggleable__control:checked~label.sk-toggleable__label-arrow:before {content: \"▾\";}#sk-container-id-2 div.sk-estimator input.sk-toggleable__control:checked~label.sk-toggleable__label {background-color: #d4ebff;}#sk-container-id-2 div.sk-label input.sk-toggleable__control:checked~label.sk-toggleable__label {background-color: #d4ebff;}#sk-container-id-2 input.sk-hidden--visually {border: 0;clip: rect(1px 1px 1px 1px);clip: rect(1px, 1px, 1px, 1px);height: 1px;margin: -1px;overflow: hidden;padding: 0;position: absolute;width: 1px;}#sk-container-id-2 div.sk-estimator {font-family: monospace;background-color: #f0f8ff;border: 1px dotted black;border-radius: 0.25em;box-sizing: border-box;margin-bottom: 0.5em;}#sk-container-id-2 div.sk-estimator:hover {background-color: #d4ebff;}#sk-container-id-2 div.sk-parallel-item::after {content: \"\";width: 100%;border-bottom: 1px solid gray;flex-grow: 1;}#sk-container-id-2 div.sk-label:hover label.sk-toggleable__label {background-color: #d4ebff;}#sk-container-id-2 div.sk-serial::before {content: \"\";position: absolute;border-left: 1px solid gray;box-sizing: border-box;top: 0;bottom: 0;left: 50%;z-index: 0;}#sk-container-id-2 div.sk-serial {display: flex;flex-direction: column;align-items: center;background-color: white;padding-right: 0.2em;padding-left: 0.2em;position: relative;}#sk-container-id-2 div.sk-item {position: relative;z-index: 1;}#sk-container-id-2 div.sk-parallel {display: flex;align-items: stretch;justify-content: center;background-color: white;position: relative;}#sk-container-id-2 div.sk-item::before, #sk-container-id-2 div.sk-parallel-item::before {content: \"\";position: absolute;border-left: 1px solid gray;box-sizing: border-box;top: 0;bottom: 0;left: 50%;z-index: -1;}#sk-container-id-2 div.sk-parallel-item {display: flex;flex-direction: column;z-index: 1;position: relative;background-color: white;}#sk-container-id-2 div.sk-parallel-item:first-child::after {align-self: flex-end;width: 50%;}#sk-container-id-2 div.sk-parallel-item:last-child::after {align-self: flex-start;width: 50%;}#sk-container-id-2 div.sk-parallel-item:only-child::after {width: 0;}#sk-container-id-2 div.sk-dashed-wrapped {border: 1px dashed gray;margin: 0 0.4em 0.5em 0.4em;box-sizing: border-box;padding-bottom: 0.4em;background-color: white;}#sk-container-id-2 div.sk-label label {font-family: monospace;font-weight: bold;display: inline-block;line-height: 1.2em;}#sk-container-id-2 div.sk-label-container {text-align: center;}#sk-container-id-2 div.sk-container {/* jupyter's `normalize.less` sets `[hidden] { display: none; }` but bootstrap.min.css set `[hidden] { display: none !important; }` so we also need the `!important` here to be able to override the default hidden behavior on the sphinx rendered scikit-learn.org. See: https://github.com/scikit-learn/scikit-learn/issues/21755 */display: inline-block !important;position: relative;}#sk-container-id-2 div.sk-text-repr-fallback {display: none;}</style><div id=\"sk-container-id-2\" class=\"sk-top-container\"><div class=\"sk-text-repr-fallback\"><pre>ADASYN(n_neighbors=4, random_state=143)</pre><b>In a Jupyter environment, please rerun this cell to show the HTML representation or trust the notebook. <br />On GitHub, the HTML representation is unable to render, please try loading this page with nbviewer.org.</b></div><div class=\"sk-container\" hidden><div class=\"sk-item\"><div class=\"sk-estimator sk-toggleable\"><input class=\"sk-toggleable__control sk-hidden--visually\" id=\"sk-estimator-id-4\" type=\"checkbox\" checked><label for=\"sk-estimator-id-4\" class=\"sk-toggleable__label sk-toggleable__label-arrow\">ADASYN</label><div class=\"sk-toggleable__content\"><pre>ADASYN(n_neighbors=4, random_state=143)</pre></div></div></div></div></div>"
      ],
      "text/plain": [
       "ADASYN(n_neighbors=4, random_state=143)"
      ]
     },
     "execution_count": 27,
     "metadata": {},
     "output_type": "execute_result"
    }
   ],
   "source": [
    "# Tune the hyperparameters of the best resampling method\n",
    "kfolds = 5\n",
    "scoring = ['accuracy', 'recall', 'precision']\n",
    "n_neighbors = range(3, 10)\n",
    "\n",
    "# Define paramaters and pipeline\n",
    "pipe_resampler = Pipeline([('scaler', RobustScaler()),\n",
    "                           ('resampler', best_resampler),\n",
    "                           ('model', best_pred_model['m'])])\n",
    "param_grid_resampler = [\n",
    "                        {'resampler': [best_resampler], \n",
    "                         'resampler__n_neighbors': n_neighbors}\n",
    "                     ]\n",
    "\n",
    "# Grid search using 5-fold CV with recall scoring metric\n",
    "gscv_resampler = tune_pred_model(pipe_resampler,\n",
    "                                 param_grid_resampler,\n",
    "                                 kfolds,\n",
    "                                 scoring,\n",
    "                                 refit=True)\n",
    "gscv_resampler.fit(x_trainval, y_trainval);\n",
    "\n",
    "# Save the best resampler\n",
    "best_resampler = gscv_resampler.best_estimator_['resampler']\n",
    "best_resampler"
   ]
  },
  {
   "cell_type": "markdown",
   "id": "8b4002ea",
   "metadata": {},
   "source": [
    "***\n",
    "<h2 style=\"color: #1048CB\"><b>Final Pipeline</b></h2>\n",
    "\n",
    "<p style=\"text-align: justify\"> &emsp;Using the best predictive model and resampling method identified in the previous sections, the final pipeline is shown below. This generated an 83.8% recall, 49.5% precision, and 84.3% accuracy when evaluated using the test set. </p>"
   ]
  },
  {
   "cell_type": "code",
   "execution_count": 28,
   "id": "742e0ce4",
   "metadata": {
    "ExecuteTime": {
     "end_time": "2023-03-20T15:45:52.653852Z",
     "start_time": "2023-03-20T15:45:41.865489Z"
    }
   },
   "outputs": [
    {
     "data": {
      "text/html": [
       "<style>#sk-container-id-3 {color: black;background-color: white;}#sk-container-id-3 pre{padding: 0;}#sk-container-id-3 div.sk-toggleable {background-color: white;}#sk-container-id-3 label.sk-toggleable__label {cursor: pointer;display: block;width: 100%;margin-bottom: 0;padding: 0.3em;box-sizing: border-box;text-align: center;}#sk-container-id-3 label.sk-toggleable__label-arrow:before {content: \"▸\";float: left;margin-right: 0.25em;color: #696969;}#sk-container-id-3 label.sk-toggleable__label-arrow:hover:before {color: black;}#sk-container-id-3 div.sk-estimator:hover label.sk-toggleable__label-arrow:before {color: black;}#sk-container-id-3 div.sk-toggleable__content {max-height: 0;max-width: 0;overflow: hidden;text-align: left;background-color: #f0f8ff;}#sk-container-id-3 div.sk-toggleable__content pre {margin: 0.2em;color: black;border-radius: 0.25em;background-color: #f0f8ff;}#sk-container-id-3 input.sk-toggleable__control:checked~div.sk-toggleable__content {max-height: 200px;max-width: 100%;overflow: auto;}#sk-container-id-3 input.sk-toggleable__control:checked~label.sk-toggleable__label-arrow:before {content: \"▾\";}#sk-container-id-3 div.sk-estimator input.sk-toggleable__control:checked~label.sk-toggleable__label {background-color: #d4ebff;}#sk-container-id-3 div.sk-label input.sk-toggleable__control:checked~label.sk-toggleable__label {background-color: #d4ebff;}#sk-container-id-3 input.sk-hidden--visually {border: 0;clip: rect(1px 1px 1px 1px);clip: rect(1px, 1px, 1px, 1px);height: 1px;margin: -1px;overflow: hidden;padding: 0;position: absolute;width: 1px;}#sk-container-id-3 div.sk-estimator {font-family: monospace;background-color: #f0f8ff;border: 1px dotted black;border-radius: 0.25em;box-sizing: border-box;margin-bottom: 0.5em;}#sk-container-id-3 div.sk-estimator:hover {background-color: #d4ebff;}#sk-container-id-3 div.sk-parallel-item::after {content: \"\";width: 100%;border-bottom: 1px solid gray;flex-grow: 1;}#sk-container-id-3 div.sk-label:hover label.sk-toggleable__label {background-color: #d4ebff;}#sk-container-id-3 div.sk-serial::before {content: \"\";position: absolute;border-left: 1px solid gray;box-sizing: border-box;top: 0;bottom: 0;left: 50%;z-index: 0;}#sk-container-id-3 div.sk-serial {display: flex;flex-direction: column;align-items: center;background-color: white;padding-right: 0.2em;padding-left: 0.2em;position: relative;}#sk-container-id-3 div.sk-item {position: relative;z-index: 1;}#sk-container-id-3 div.sk-parallel {display: flex;align-items: stretch;justify-content: center;background-color: white;position: relative;}#sk-container-id-3 div.sk-item::before, #sk-container-id-3 div.sk-parallel-item::before {content: \"\";position: absolute;border-left: 1px solid gray;box-sizing: border-box;top: 0;bottom: 0;left: 50%;z-index: -1;}#sk-container-id-3 div.sk-parallel-item {display: flex;flex-direction: column;z-index: 1;position: relative;background-color: white;}#sk-container-id-3 div.sk-parallel-item:first-child::after {align-self: flex-end;width: 50%;}#sk-container-id-3 div.sk-parallel-item:last-child::after {align-self: flex-start;width: 50%;}#sk-container-id-3 div.sk-parallel-item:only-child::after {width: 0;}#sk-container-id-3 div.sk-dashed-wrapped {border: 1px dashed gray;margin: 0 0.4em 0.5em 0.4em;box-sizing: border-box;padding-bottom: 0.4em;background-color: white;}#sk-container-id-3 div.sk-label label {font-family: monospace;font-weight: bold;display: inline-block;line-height: 1.2em;}#sk-container-id-3 div.sk-label-container {text-align: center;}#sk-container-id-3 div.sk-container {/* jupyter's `normalize.less` sets `[hidden] { display: none; }` but bootstrap.min.css set `[hidden] { display: none !important; }` so we also need the `!important` here to be able to override the default hidden behavior on the sphinx rendered scikit-learn.org. See: https://github.com/scikit-learn/scikit-learn/issues/21755 */display: inline-block !important;position: relative;}#sk-container-id-3 div.sk-text-repr-fallback {display: none;}</style><div id=\"sk-container-id-3\" class=\"sk-top-container\"><div class=\"sk-text-repr-fallback\"><pre>Pipeline(steps=[(&#x27;scaler&#x27;, RobustScaler()),\n",
       "                (&#x27;resampler&#x27;, ADASYN(n_neighbors=4, random_state=143)),\n",
       "                (&#x27;model&#x27;,\n",
       "                 RandomForestClassifier(max_depth=5, max_features=0.7,\n",
       "                                        n_estimators=250, random_state=143))])</pre><b>In a Jupyter environment, please rerun this cell to show the HTML representation or trust the notebook. <br />On GitHub, the HTML representation is unable to render, please try loading this page with nbviewer.org.</b></div><div class=\"sk-container\" hidden><div class=\"sk-item sk-dashed-wrapped\"><div class=\"sk-label-container\"><div class=\"sk-label sk-toggleable\"><input class=\"sk-toggleable__control sk-hidden--visually\" id=\"sk-estimator-id-5\" type=\"checkbox\" ><label for=\"sk-estimator-id-5\" class=\"sk-toggleable__label sk-toggleable__label-arrow\">Pipeline</label><div class=\"sk-toggleable__content\"><pre>Pipeline(steps=[(&#x27;scaler&#x27;, RobustScaler()),\n",
       "                (&#x27;resampler&#x27;, ADASYN(n_neighbors=4, random_state=143)),\n",
       "                (&#x27;model&#x27;,\n",
       "                 RandomForestClassifier(max_depth=5, max_features=0.7,\n",
       "                                        n_estimators=250, random_state=143))])</pre></div></div></div><div class=\"sk-serial\"><div class=\"sk-item\"><div class=\"sk-estimator sk-toggleable\"><input class=\"sk-toggleable__control sk-hidden--visually\" id=\"sk-estimator-id-6\" type=\"checkbox\" ><label for=\"sk-estimator-id-6\" class=\"sk-toggleable__label sk-toggleable__label-arrow\">RobustScaler</label><div class=\"sk-toggleable__content\"><pre>RobustScaler()</pre></div></div></div><div class=\"sk-item\"><div class=\"sk-estimator sk-toggleable\"><input class=\"sk-toggleable__control sk-hidden--visually\" id=\"sk-estimator-id-7\" type=\"checkbox\" ><label for=\"sk-estimator-id-7\" class=\"sk-toggleable__label sk-toggleable__label-arrow\">ADASYN</label><div class=\"sk-toggleable__content\"><pre>ADASYN(n_neighbors=4, random_state=143)</pre></div></div></div><div class=\"sk-item\"><div class=\"sk-estimator sk-toggleable\"><input class=\"sk-toggleable__control sk-hidden--visually\" id=\"sk-estimator-id-8\" type=\"checkbox\" ><label for=\"sk-estimator-id-8\" class=\"sk-toggleable__label sk-toggleable__label-arrow\">RandomForestClassifier</label><div class=\"sk-toggleable__content\"><pre>RandomForestClassifier(max_depth=5, max_features=0.7, n_estimators=250,\n",
       "                       random_state=143)</pre></div></div></div></div></div></div></div>"
      ],
      "text/plain": [
       "Pipeline(steps=[('scaler', RobustScaler()),\n",
       "                ('resampler', ADASYN(n_neighbors=4, random_state=143)),\n",
       "                ('model',\n",
       "                 RandomForestClassifier(max_depth=5, max_features=0.7,\n",
       "                                        n_estimators=250, random_state=143))])"
      ]
     },
     "execution_count": 28,
     "metadata": {},
     "output_type": "execute_result"
    }
   ],
   "source": [
    "best_model = Pipeline([('scaler', RobustScaler()),\n",
    "                       ('resampler', best_resampler),\n",
    "                       ('model', best_pred_model['m'])])\n",
    "best_model.fit(x_trainval, y_trainval);\n",
    "\n",
    "best_model"
   ]
  },
  {
   "cell_type": "code",
   "execution_count": 29,
   "id": "1e1584b2",
   "metadata": {
    "ExecuteTime": {
     "end_time": "2023-03-20T15:45:52.756837Z",
     "start_time": "2023-03-20T15:45:52.656321Z"
    }
   },
   "outputs": [
    {
     "data": {
      "text/html": [
       "<div>\n",
       "<style scoped>\n",
       "    .dataframe tbody tr th:only-of-type {\n",
       "        vertical-align: middle;\n",
       "    }\n",
       "\n",
       "    .dataframe tbody tr th {\n",
       "        vertical-align: top;\n",
       "    }\n",
       "\n",
       "    .dataframe thead th {\n",
       "        text-align: right;\n",
       "    }\n",
       "</style>\n",
       "<table border=\"1\" class=\"dataframe\">\n",
       "  <thead>\n",
       "    <tr style=\"text-align: right;\">\n",
       "      <th></th>\n",
       "      <th>avg_train_accuracy</th>\n",
       "      <th>avg_train_recall</th>\n",
       "      <th>avg_train_precision</th>\n",
       "      <th>avg_val_accuracy</th>\n",
       "      <th>avg_val_recall</th>\n",
       "      <th>avg_val_precision</th>\n",
       "    </tr>\n",
       "  </thead>\n",
       "  <tbody>\n",
       "    <tr>\n",
       "      <th>ADASYN</th>\n",
       "      <td>85.717975</td>\n",
       "      <td>86.806295</td>\n",
       "      <td>52.400487</td>\n",
       "      <td>84.914764</td>\n",
       "      <td>84.006708</td>\n",
       "      <td>50.856203</td>\n",
       "    </tr>\n",
       "    <tr>\n",
       "      <th>SMOTENC</th>\n",
       "      <td>87.959578</td>\n",
       "      <td>82.510451</td>\n",
       "      <td>57.780917</td>\n",
       "      <td>87.429042</td>\n",
       "      <td>81.386309</td>\n",
       "      <td>56.756800</td>\n",
       "    </tr>\n",
       "    <tr>\n",
       "      <th>No Resampling</th>\n",
       "      <td>91.593168</td>\n",
       "      <td>64.810489</td>\n",
       "      <td>77.195906</td>\n",
       "      <td>90.389261</td>\n",
       "      <td>60.875174</td>\n",
       "      <td>72.931967</td>\n",
       "    </tr>\n",
       "  </tbody>\n",
       "</table>\n",
       "</div>"
      ],
      "text/plain": [
       "               avg_train_accuracy  avg_train_recall  avg_train_precision  \\\n",
       "ADASYN                  85.717975         86.806295            52.400487   \n",
       "SMOTENC                 87.959578         82.510451            57.780917   \n",
       "No Resampling           91.593168         64.810489            77.195906   \n",
       "\n",
       "               avg_val_accuracy  avg_val_recall  avg_val_precision  \n",
       "ADASYN                84.914764       84.006708          50.856203  \n",
       "SMOTENC               87.429042       81.386309          56.756800  \n",
       "No Resampling         90.389261       60.875174          72.931967  "
      ]
     },
     "metadata": {},
     "output_type": "display_data"
    },
    {
     "name": "stdout",
     "output_type": "stream",
     "text": [
      "Performance of the Best model evaluated using the Test set:\n",
      "Test Accuracy: 84.225%\n",
      "Test Recall: 83.770%\n",
      "Test Precision: 49.459%\n"
     ]
    }
   ],
   "source": [
    "# Collate the summary of the results in a dataframe\n",
    "summary = {'No Resampling': df_pred_res.iloc[0, 1:7].to_dict()}\n",
    "summary.update(df_resampled.T.to_dict())\n",
    "df_summary = (pd.DataFrame(summary).T.sort_values(by='avg_val_recall',\n",
    "                                                    ascending=False))\n",
    "display(df_summary)\n",
    "\n",
    "# Evaluate the best model using the test dataset\n",
    "test_pred = best_model.predict(x_test)\n",
    "res_test = { \n",
    "             'test_accuracy': accuracy_score(y_test, test_pred),\n",
    "             'test_recall': recall_score(y_test, test_pred),\n",
    "             'test_precision': precision_score(y_test, test_pred)\n",
    "           }\n",
    "print('Performance of the Best model evaluated using the Test set:')\n",
    "print(f'Test Accuracy: {100*accuracy_score(y_test, test_pred):.3f}%')\n",
    "print(f'Test Recall: {100*recall_score(y_test, test_pred):.3f}%')\n",
    "print(f'Test Precision: {100*precision_score(y_test, test_pred):.3f}%')"
   ]
  },
  {
   "cell_type": "markdown",
   "id": "8fb940aa",
   "metadata": {},
   "source": [
    "***\n",
    "<h2 style=\"color: #1048CB\"><b>Post-hoc Explanations</b></h2>"
   ]
  },
  {
   "cell_type": "markdown",
   "id": "e9249a15",
   "metadata": {},
   "source": [
    "***\n",
    "<h3 style=\"color: #1048CB\"><b>Global Explanations</b></h3>\n",
    "\n",
    "<p style=\"text-align: justify\"> &emsp;SHapley Additive exPlainations (SHAP) was then used to study the marginal contributions of each feature to the prediction and have an idea on what the key purchase decision drivers are. </p>"
   ]
  },
  {
   "cell_type": "code",
   "execution_count": 30,
   "id": "29526fd0",
   "metadata": {
    "ExecuteTime": {
     "end_time": "2023-03-20T15:45:52.763924Z",
     "start_time": "2023-03-20T15:45:52.759246Z"
    }
   },
   "outputs": [],
   "source": [
    "col_names_for_pres = ['Admin. Pages Viewed', 'Admin. Duration', 'Info. Pages Viewed',\n",
    "                       'Info. Duration', 'Prod. Pages Viewed', 'Prod. Duration',\n",
    "                       'Bounce Rate', 'Exit Rate', 'Page Value', 'Special Day', 'Weekend',\n",
    "                       'Month: Dec', 'Month: Feb', 'Month: Jul', 'Month: June', 'Month: Mar',\n",
    "                       'Month: May', 'Month: Nov', 'Month: Oct', 'Month: Sep',\n",
    "                       'OS: 2', 'OS: 3', 'OS: 4',\n",
    "                       'OS: 5', 'OS: 6', 'OS: 7',\n",
    "                       'OS: 8', 'Browser: 2', 'Browser: 3', 'Browser: 4',\n",
    "                       'Browser: 5', 'Browser_6', 'Browser: 7', 'Browser: 8', 'Browser: 9',\n",
    "                       'Browser: 10', 'Browser: 11', 'Browser: 12', 'Browser: 13', 'Region: 2',\n",
    "                       'Region: 3', 'Region: 4', 'Region: 5', 'Region: 6', 'Region: 7', 'Region: 8',\n",
    "                       'Region: 9', 'Traffic Type: 2', 'Traffic Type: 3', 'Traffic Type: 4',\n",
    "                       'Traffic Type: 5', 'Traffic Type: 6', 'Traffic Type: 7', 'Traffic Type: 8',\n",
    "                       'Traffic Type: 9', 'Traffic Type: 10', 'Traffic Type: 11',\n",
    "                       'Traffic Type: 12', 'Traffic Type: 13', 'Traffic Type: 14',\n",
    "                       'Traffic Type: 15', 'Traffic Type: 16', 'Traffic Type: 17',\n",
    "                       'Traffic Type: 18', 'Traffic Type: 19', 'Traffic Type: 20',\n",
    "                       'Other Visitor', 'Returning Visitor']"
   ]
  },
  {
   "cell_type": "code",
   "execution_count": 31,
   "id": "227e4ec4",
   "metadata": {
    "ExecuteTime": {
     "end_time": "2023-03-20T15:52:46.731226Z",
     "start_time": "2023-03-20T15:45:52.765994Z"
    }
   },
   "outputs": [
    {
     "name": "stderr",
     "output_type": "stream",
     "text": [
      "Permutation explainer: 1001it [06:53,  2.37it/s]                          "
     ]
    },
    {
     "name": "stdout",
     "output_type": "stream",
     "text": [
      "Values: (1000, 68, 2)\n",
      "Base Values: (1000, 2)\n",
      "Data: (1000, 68)\n"
     ]
    },
    {
     "name": "stderr",
     "output_type": "stream",
     "text": [
      "\n"
     ]
    }
   ],
   "source": [
    "# Get global feature importances using SHAP\n",
    "n_samples = 1000 # can be reduced for shorter compute time\n",
    "\n",
    "shap_exp = shap.Explainer(\n",
    "                best_model.predict_proba,\n",
    "                x_trainval,\n",
    "                feature_names=x_trainval.columns\n",
    "             )\n",
    "\n",
    "# defining all columns avoid warning \n",
    "shap_values = shap_exp(x_test.iloc[:n_samples, :]) # gives records, features, classes\n",
    "shap_explanation = shap.Explanation(\n",
    "    shap_values.values[:, :, 1],\n",
    "    shap_values.base_values[0][1],\n",
    "    shap_values.data,\n",
    "    feature_names=col_names_for_pres\n",
    ")\n",
    "print(f'Values: {shap_values.values.shape}') # values\n",
    "print(f'Base Values: {shap_values.base_values.shape}') # base values (average)\n",
    "print(f'Data: {shap_values.data.shape}') # fitted data"
   ]
  },
  {
   "cell_type": "markdown",
   "id": "ba22008b",
   "metadata": {},
   "source": [
    "<p style=\"text-align: justify\"> &emsp;Looking at the top 5 important features, page's value was seen to be the most important purchase decision driver among the visitors. This is followed by the seasonality of the visit, whether it's on the month of Nov. or May, the type of traffic generated, and the type of visitor whether they're returning or not. </p>\n"
   ]
  },
  {
   "cell_type": "code",
   "execution_count": 32,
   "id": "d231950c",
   "metadata": {
    "ExecuteTime": {
     "end_time": "2023-03-20T15:52:46.924458Z",
     "start_time": "2023-03-20T15:52:46.734097Z"
    }
   },
   "outputs": [
    {
     "data": {
      "image/png": "[encoded data removed]",
      "text/plain": [
       "<Figure size 720x432 with 1 Axes>"
      ]
     },
     "metadata": {
      "needs_background": "light"
     },
     "output_type": "display_data"
    }
   ],
   "source": [
    "shap.summary_plot(shap_explanation, max_display=10, plot_size=(10, 6),\n",
    "                  plot_type='bar', show=False)"
   ]
  },
  {
   "cell_type": "markdown",
   "id": "4bde0b3b",
   "metadata": {},
   "source": [
    "Looking at the relationship between a feature's magnitude and its impact on the model's prediction, we can infer the following:\n",
    "\n",
    "1. Having a low page value has a low impact on a visitor's decision to purchase. Pages with quality content, high utility, and clear call-to-action are the ones that would most likely encourage conversion and generate revenue.\n",
    "\n",
    "\n",
    "2. Visiting on November or September has a high impact on their decision to purchase. This could be related to seasonal shopping events such as Black Friday in the US,  held on the 4th friday of November every year, or the 11.11 sale in the Philippines, held on the 11th of November every year.\n",
    "\n",
    "    On the contrary, customers are not likely to buy when they visit on May or December. This could be attributed to how these months are either during or after the holiday season already.\n",
    "\n",
    "\n",
    "3. A visitor's decision to purchase is not related to the frequency of its visit as shown by how being a returning customer has a low impact on the prediction."
   ]
  },
  {
   "cell_type": "code",
   "execution_count": 33,
   "id": "a3c18a6b",
   "metadata": {
    "ExecuteTime": {
     "end_time": "2023-03-20T15:52:47.414845Z",
     "start_time": "2023-03-20T15:52:46.926708Z"
    }
   },
   "outputs": [
    {
     "data": {
      "image/png": "[encoded data removed]",
      "text/plain": [
       "<Figure size 720x360 with 2 Axes>"
      ]
     },
     "metadata": {
      "needs_background": "light"
     },
     "output_type": "display_data"
    }
   ],
   "source": [
    "shap.summary_plot(shap_explanation, plot_size=(10, 5), max_display=10, show=False)"
   ]
  },
  {
   "cell_type": "markdown",
   "id": "4339721f",
   "metadata": {},
   "source": [
    "***\n",
    "<h3 style=\"color: #1048CB\"><b>Local Explanations</b></h3>\n",
    "\n",
    "Diverse Counterfactual Explainations (DiCE) was used to study the effect of each feature in different scenarios. Specifically, we want to determine what are the small changes a business can do that would greatly encourage a visitor to stay and complete a purchase.\n",
    "\n",
    "In this work, we considered 3 scenarios and checked which actionable features we can work on to convert a non-buying visitor into a buying customer:\n",
    "\n",
    "1. **Seasonal visitors**\n",
    "\n",
    "   The user visited on a special day or months before seasonal event (e.g., Nov. & Sept.).\n",
    "   \n",
    "   \n",
    "2. **Non-Seasonal, Returning visitors**\n",
    "\n",
    "   The user visited multiple times but not during special days or seasonal months.\n",
    "\n",
    "\n",
    "3. **New visitors**\n",
    "\n",
    "   Users who visited for the first time.\n",
    "   \n",
    "   \n",
    "Note that since we've already seen how the value of a page (`page_value`) greatly impacts a customers' buying decision, this will be excluded in this scenario analysis, if possible, to explore other aspects that we can work on. Moreover, a business can only have little control over a page's value since it's dependent on the traffic and corresponding revenue generated on a page."
   ]
  },
  {
   "cell_type": "code",
   "execution_count": 34,
   "id": "c98eb307",
   "metadata": {
    "ExecuteTime": {
     "end_time": "2023-03-20T15:52:47.430713Z",
     "start_time": "2023-03-20T15:52:47.416945Z"
    }
   },
   "outputs": [],
   "source": [
    "def cf_exp(best_pipeline, df, numeric_col, target_col,\n",
    "                back_end='sklearn', dice_method='genetic'):\n",
    "    \"\"\"\n",
    "    Return DICE explainations.\n",
    "    \"\"\"\n",
    "    model = Model(model=best_pipeline, backend=back_end)\n",
    "    dice_data = Data(dataframe=df,\n",
    "                     continuous_features=numeric_col,\n",
    "                     outcome_name=target_col)\n",
    "    dice_exp = Dice(dice_data, model, method=dice_method)\n",
    "    return dice_exp\n",
    "\n",
    "# Define columns that are actionable\n",
    "actionable_cols = ['administrative', 'administrative_duration',\n",
    "                   'informational', 'informational_duration',\n",
    "                   'product_related', 'product_related_duration',\n",
    "                   'bounce_rates', 'exit_rates', 'page_values',\n",
    "                   'special_day', 'weekend', 'month_Dec',\n",
    "                   'month_Feb', 'month_Jul', 'month_June',\n",
    "                   'month_Mar', 'month_May', 'month_Nov',\n",
    "                   'month_Oct', 'month_Sep', 'visitor_type_Other',\n",
    "                   'visitor_type_Returning_Visitor']\n",
    "\n",
    "df_merged_train = x_trainval.join(y_trainval)"
   ]
  },
  {
   "cell_type": "markdown",
   "id": "cd2726d0",
   "metadata": {},
   "source": [
    "**Scenario 1: Seasonal visitor**"
   ]
  },
  {
   "cell_type": "code",
   "execution_count": 35,
   "id": "cc9bd8cf",
   "metadata": {
    "ExecuteTime": {
     "end_time": "2023-03-20T15:52:47.508413Z",
     "start_time": "2023-03-20T15:52:47.433106Z"
    }
   },
   "outputs": [
    {
     "name": "stdout",
     "output_type": "stream",
     "text": [
      "Prediction for a sample Seasonal visitor: [0]\n"
     ]
    }
   ],
   "source": [
    "# Seasonal visitor\n",
    "c1 = df_merged_train.loc[(\n",
    "                    (df_merged_train.special_day > 0)\n",
    "                    | (df_merged_train.month_Nov == 1)\n",
    "                    | (df_merged_train.month_Sep == 1)\n",
    "                  )]\n",
    "\n",
    "c1_test = x_test.loc[(\n",
    "                    (x_test.special_day > 0)\n",
    "                    | (x_test.month_Nov == 1)\n",
    "                    | (x_test.month_Sep == 1)\n",
    "                  )]\n",
    "\n",
    "c1_sample = c1_test.iloc[[30]] \n",
    "print(f'Prediction for a sample Seasonal visitor: {best_model.predict(c1_sample)}')\n",
    "\n",
    "# Initiate DICE explainer\n",
    "c1_dice_exp = cf_exp(best_model, c1, x_trainval.columns.tolist(), target)"
   ]
  },
  {
   "cell_type": "markdown",
   "id": "6826c808",
   "metadata": {},
   "source": [
    "To encourage a seasonal visitor to purchase, we have to reduce the complexity and ease their search experience. This translates to decreasing the product-related and admin-related pages they need to view before finding what they're looking for, increasing the time they spend on looking at the products they're interested in, and ensuring that the pages they visit are valuable to them.\n",
    "\n",
    "In order to decrease the pages of irrelevant items, the business could optimize the way visitors navigate through the site. This may include recommendation systems and improved product searching. For easier checkout, streamlining of the overall process must also be considered. \n",
    "\n",
    "Lastly, for a holistic approach, aside from doing the above, the business should drive the attention of visitors to high-value pages and convert discovered low-value pages to receive high volume of website visitor traffic. Design consdirations must also be taken into account to make these pages more attractive."
   ]
  },
  {
   "cell_type": "code",
   "execution_count": 36,
   "id": "2977c7dd",
   "metadata": {
    "ExecuteTime": {
     "end_time": "2023-03-20T15:52:48.404678Z",
     "start_time": "2023-03-20T15:52:47.510826Z"
    }
   },
   "outputs": [
    {
     "name": "stderr",
     "output_type": "stream",
     "text": [
      "100%|██████████| 1/1 [00:00<00:00,  1.17it/s]"
     ]
    },
    {
     "name": "stdout",
     "output_type": "stream",
     "text": [
      "Query instance (original outcome : 0)\n"
     ]
    },
    {
     "name": "stderr",
     "output_type": "stream",
     "text": [
      "\n"
     ]
    },
    {
     "data": {
      "text/html": [
       "<div>\n",
       "<style scoped>\n",
       "    .dataframe tbody tr th:only-of-type {\n",
       "        vertical-align: middle;\n",
       "    }\n",
       "\n",
       "    .dataframe tbody tr th {\n",
       "        vertical-align: top;\n",
       "    }\n",
       "\n",
       "    .dataframe thead th {\n",
       "        text-align: right;\n",
       "    }\n",
       "</style>\n",
       "<table border=\"1\" class=\"dataframe\">\n",
       "  <thead>\n",
       "    <tr style=\"text-align: right;\">\n",
       "      <th></th>\n",
       "      <th>administrative</th>\n",
       "      <th>administrative_duration</th>\n",
       "      <th>informational</th>\n",
       "      <th>informational_duration</th>\n",
       "      <th>product_related</th>\n",
       "      <th>product_related_duration</th>\n",
       "      <th>bounce_rates</th>\n",
       "      <th>exit_rates</th>\n",
       "      <th>page_values</th>\n",
       "      <th>special_day</th>\n",
       "      <th>...</th>\n",
       "      <th>traffic_type_14</th>\n",
       "      <th>traffic_type_15</th>\n",
       "      <th>traffic_type_16</th>\n",
       "      <th>traffic_type_17</th>\n",
       "      <th>traffic_type_18</th>\n",
       "      <th>traffic_type_19</th>\n",
       "      <th>traffic_type_20</th>\n",
       "      <th>visitor_type_Other</th>\n",
       "      <th>visitor_type_Returning_Visitor</th>\n",
       "      <th>revenue</th>\n",
       "    </tr>\n",
       "  </thead>\n",
       "  <tbody>\n",
       "    <tr>\n",
       "      <th>0</th>\n",
       "      <td>10.0</td>\n",
       "      <td>200.583328</td>\n",
       "      <td>1.0</td>\n",
       "      <td>86.0</td>\n",
       "      <td>65.0</td>\n",
       "      <td>1476.5</td>\n",
       "      <td>0.040097</td>\n",
       "      <td>0.059662</td>\n",
       "      <td>1.680319</td>\n",
       "      <td>0.8</td>\n",
       "      <td>...</td>\n",
       "      <td>0.0</td>\n",
       "      <td>0.0</td>\n",
       "      <td>0.0</td>\n",
       "      <td>0.0</td>\n",
       "      <td>0.0</td>\n",
       "      <td>0.0</td>\n",
       "      <td>0.0</td>\n",
       "      <td>0.0</td>\n",
       "      <td>1.0</td>\n",
       "      <td>0</td>\n",
       "    </tr>\n",
       "  </tbody>\n",
       "</table>\n",
       "<p>1 rows × 69 columns</p>\n",
       "</div>"
      ],
      "text/plain": [
       "   administrative  administrative_duration  informational  \\\n",
       "0            10.0               200.583328            1.0   \n",
       "\n",
       "   informational_duration  product_related  product_related_duration  \\\n",
       "0                    86.0             65.0                    1476.5   \n",
       "\n",
       "   bounce_rates  exit_rates  page_values  special_day  ...  traffic_type_14  \\\n",
       "0      0.040097    0.059662     1.680319          0.8  ...              0.0   \n",
       "\n",
       "   traffic_type_15  traffic_type_16  traffic_type_17  traffic_type_18  \\\n",
       "0              0.0              0.0              0.0              0.0   \n",
       "\n",
       "   traffic_type_19  traffic_type_20  visitor_type_Other  \\\n",
       "0              0.0              0.0                 0.0   \n",
       "\n",
       "   visitor_type_Returning_Visitor  revenue  \n",
       "0                             1.0        0  \n",
       "\n",
       "[1 rows x 69 columns]"
      ]
     },
     "metadata": {},
     "output_type": "display_data"
    },
    {
     "name": "stdout",
     "output_type": "stream",
     "text": [
      "\n",
      "Diverse Counterfactual set (new outcome: 1)\n"
     ]
    },
    {
     "data": {
      "text/html": [
       "<div>\n",
       "<style scoped>\n",
       "    .dataframe tbody tr th:only-of-type {\n",
       "        vertical-align: middle;\n",
       "    }\n",
       "\n",
       "    .dataframe tbody tr th {\n",
       "        vertical-align: top;\n",
       "    }\n",
       "\n",
       "    .dataframe thead th {\n",
       "        text-align: right;\n",
       "    }\n",
       "</style>\n",
       "<table border=\"1\" class=\"dataframe\">\n",
       "  <thead>\n",
       "    <tr style=\"text-align: right;\">\n",
       "      <th></th>\n",
       "      <th>administrative</th>\n",
       "      <th>administrative_duration</th>\n",
       "      <th>informational</th>\n",
       "      <th>informational_duration</th>\n",
       "      <th>product_related</th>\n",
       "      <th>product_related_duration</th>\n",
       "      <th>bounce_rates</th>\n",
       "      <th>exit_rates</th>\n",
       "      <th>page_values</th>\n",
       "      <th>special_day</th>\n",
       "      <th>...</th>\n",
       "      <th>traffic_type_14</th>\n",
       "      <th>traffic_type_15</th>\n",
       "      <th>traffic_type_16</th>\n",
       "      <th>traffic_type_17</th>\n",
       "      <th>traffic_type_18</th>\n",
       "      <th>traffic_type_19</th>\n",
       "      <th>traffic_type_20</th>\n",
       "      <th>visitor_type_Other</th>\n",
       "      <th>visitor_type_Returning_Visitor</th>\n",
       "      <th>revenue</th>\n",
       "    </tr>\n",
       "  </thead>\n",
       "  <tbody>\n",
       "    <tr>\n",
       "      <th>0</th>\n",
       "      <td>1.0</td>\n",
       "      <td>149.5</td>\n",
       "      <td>0.0</td>\n",
       "      <td>0.0</td>\n",
       "      <td>32.0</td>\n",
       "      <td>1562.3</td>\n",
       "      <td>0.0</td>\n",
       "      <td>0.1</td>\n",
       "      <td>1.7</td>\n",
       "      <td>0.2</td>\n",
       "      <td>...</td>\n",
       "      <td>-</td>\n",
       "      <td>-</td>\n",
       "      <td>-</td>\n",
       "      <td>-</td>\n",
       "      <td>-</td>\n",
       "      <td>-</td>\n",
       "      <td>-</td>\n",
       "      <td>-</td>\n",
       "      <td>-</td>\n",
       "      <td>1.0</td>\n",
       "    </tr>\n",
       "    <tr>\n",
       "      <th>0</th>\n",
       "      <td>6.0</td>\n",
       "      <td>110.6</td>\n",
       "      <td>-</td>\n",
       "      <td>106.0</td>\n",
       "      <td>30.0</td>\n",
       "      <td>1508.5</td>\n",
       "      <td>0.0</td>\n",
       "      <td>0.0</td>\n",
       "      <td>1.7</td>\n",
       "      <td>0.0</td>\n",
       "      <td>...</td>\n",
       "      <td>-</td>\n",
       "      <td>-</td>\n",
       "      <td>-</td>\n",
       "      <td>-</td>\n",
       "      <td>-</td>\n",
       "      <td>-</td>\n",
       "      <td>-</td>\n",
       "      <td>-</td>\n",
       "      <td>-</td>\n",
       "      <td>1.0</td>\n",
       "    </tr>\n",
       "    <tr>\n",
       "      <th>0</th>\n",
       "      <td>2.0</td>\n",
       "      <td>0.0</td>\n",
       "      <td>0.0</td>\n",
       "      <td>0.0</td>\n",
       "      <td>0.0</td>\n",
       "      <td>0.0</td>\n",
       "      <td>0.0</td>\n",
       "      <td>0.0</td>\n",
       "      <td>1.7</td>\n",
       "      <td>0.0</td>\n",
       "      <td>...</td>\n",
       "      <td>-</td>\n",
       "      <td>-</td>\n",
       "      <td>-</td>\n",
       "      <td>-</td>\n",
       "      <td>-</td>\n",
       "      <td>-</td>\n",
       "      <td>-</td>\n",
       "      <td>-</td>\n",
       "      <td>-</td>\n",
       "      <td>1.0</td>\n",
       "    </tr>\n",
       "    <tr>\n",
       "      <th>0</th>\n",
       "      <td>1.0</td>\n",
       "      <td>149.5</td>\n",
       "      <td>0.0</td>\n",
       "      <td>0.0</td>\n",
       "      <td>0.0</td>\n",
       "      <td>1562.3</td>\n",
       "      <td>0.0</td>\n",
       "      <td>0.0</td>\n",
       "      <td>1.7</td>\n",
       "      <td>0.0</td>\n",
       "      <td>...</td>\n",
       "      <td>-</td>\n",
       "      <td>-</td>\n",
       "      <td>-</td>\n",
       "      <td>-</td>\n",
       "      <td>-</td>\n",
       "      <td>-</td>\n",
       "      <td>-</td>\n",
       "      <td>-</td>\n",
       "      <td>-</td>\n",
       "      <td>1.0</td>\n",
       "    </tr>\n",
       "    <tr>\n",
       "      <th>0</th>\n",
       "      <td>4.0</td>\n",
       "      <td>126.1</td>\n",
       "      <td>2.0</td>\n",
       "      <td>43.3</td>\n",
       "      <td>34.0</td>\n",
       "      <td>1395.4</td>\n",
       "      <td>0.0</td>\n",
       "      <td>0.0</td>\n",
       "      <td>1.7</td>\n",
       "      <td>0.0</td>\n",
       "      <td>...</td>\n",
       "      <td>-</td>\n",
       "      <td>-</td>\n",
       "      <td>-</td>\n",
       "      <td>-</td>\n",
       "      <td>-</td>\n",
       "      <td>-</td>\n",
       "      <td>-</td>\n",
       "      <td>-</td>\n",
       "      <td>-</td>\n",
       "      <td>1.0</td>\n",
       "    </tr>\n",
       "  </tbody>\n",
       "</table>\n",
       "<p>5 rows × 69 columns</p>\n",
       "</div>"
      ],
      "text/plain": [
       "  administrative administrative_duration informational informational_duration  \\\n",
       "0            1.0                   149.5           0.0                    0.0   \n",
       "0            6.0                   110.6             -                  106.0   \n",
       "0            2.0                     0.0           0.0                    0.0   \n",
       "0            1.0                   149.5           0.0                    0.0   \n",
       "0            4.0                   126.1           2.0                   43.3   \n",
       "\n",
       "  product_related product_related_duration bounce_rates exit_rates  \\\n",
       "0            32.0                   1562.3          0.0        0.1   \n",
       "0            30.0                   1508.5          0.0        0.0   \n",
       "0             0.0                      0.0          0.0        0.0   \n",
       "0             0.0                   1562.3          0.0        0.0   \n",
       "0            34.0                   1395.4          0.0        0.0   \n",
       "\n",
       "  page_values special_day  ... traffic_type_14 traffic_type_15  \\\n",
       "0         1.7         0.2  ...               -               -   \n",
       "0         1.7         0.0  ...               -               -   \n",
       "0         1.7         0.0  ...               -               -   \n",
       "0         1.7         0.0  ...               -               -   \n",
       "0         1.7         0.0  ...               -               -   \n",
       "\n",
       "  traffic_type_16 traffic_type_17 traffic_type_18 traffic_type_19  \\\n",
       "0               -               -               -               -   \n",
       "0               -               -               -               -   \n",
       "0               -               -               -               -   \n",
       "0               -               -               -               -   \n",
       "0               -               -               -               -   \n",
       "\n",
       "  traffic_type_20 visitor_type_Other visitor_type_Returning_Visitor revenue  \n",
       "0               -                  -                              -     1.0  \n",
       "0               -                  -                              -     1.0  \n",
       "0               -                  -                              -     1.0  \n",
       "0               -                  -                              -     1.0  \n",
       "0               -                  -                              -     1.0  \n",
       "\n",
       "[5 rows x 69 columns]"
      ]
     },
     "metadata": {},
     "output_type": "display_data"
    }
   ],
   "source": [
    "# Generate counterfactual explanations for a sample Seasonal visitor\n",
    "cf_loc1 = c1_dice_exp.generate_counterfactuals(\n",
    "                    c1_sample, \n",
    "                    total_CFs=5,\n",
    "                    desired_class='opposite',\n",
    "                    features_to_vary=list(set(actionable_cols) - set(['page_values'])) \n",
    "                  )\n",
    "cf_loc1.visualize_as_dataframe(show_only_changes=True)"
   ]
  },
  {
   "cell_type": "markdown",
   "id": "6743f371",
   "metadata": {
    "ExecuteTime": {
     "end_time": "2023-03-18T17:39:54.966135Z",
     "start_time": "2023-03-18T17:39:54.959189Z"
    }
   },
   "source": [
    "**Scenario 2: Non-Seasonal, Returning visitor**"
   ]
  },
  {
   "cell_type": "code",
   "execution_count": 37,
   "id": "4a12c620",
   "metadata": {
    "ExecuteTime": {
     "end_time": "2023-03-20T15:52:48.474426Z",
     "start_time": "2023-03-20T15:52:48.406964Z"
    }
   },
   "outputs": [
    {
     "name": "stdout",
     "output_type": "stream",
     "text": [
      "Prediction for a sample Non-seasonal, Returning visitor: [0]\n"
     ]
    }
   ],
   "source": [
    "c2 = df_merged_train.loc[(\n",
    "                    (df_merged_train.special_day == 0)\n",
    "                    & (df_merged_train.month_Nov == 0)\n",
    "                    & (df_merged_train.month_Sep == 0)\n",
    "                    & (df_merged_train.visitor_type_Returning_Visitor == 1)\n",
    "                  )]\n",
    "\n",
    "c2_test = x_test.loc[(\n",
    "                    (x_test.special_day == 0)\n",
    "                    & (x_test.month_Nov == 0)\n",
    "                    & (x_test.month_Sep == 0)\n",
    "                    & (x_test.visitor_type_Returning_Visitor == 1)\n",
    "                  )]\n",
    "\n",
    "c2_sample = c2_test.iloc[[2]] \n",
    "print(f'Prediction for a sample Non-seasonal, Returning visitor: {best_model.predict(c2_sample)}')\n",
    "\n",
    "# Initiate DICE explainer\n",
    "c2_dice_exp = cf_exp(best_model, c2, x_trainval.columns.tolist(), target)"
   ]
  },
  {
   "cell_type": "markdown",
   "id": "023ab6e3",
   "metadata": {},
   "source": [
    "To encourage a non-seasonal, returning visitor to purchase, we can focus on increasing their intent to purchase, and making their search experience frictionless. To enact this, on a surface level, the business could lessen redirecting on other pages to surface out valuable infomation for a purchase. The visitor's search history may also be utilized to extract relevance of items and/or products. Relevant promotional offers may also increase the visitor's propensity to purchase.\n",
    "\n",
    "Use contextual links and improve internal linking to reduce the number of redirects needed to reach the right page. Contextual links direct your visitors to relevant and engaging information. The business may also explore using appealing product catalog based on search history, with this, the busines may invoke recommendation and customisation systems for online shopping."
   ]
  },
  {
   "cell_type": "code",
   "execution_count": 38,
   "id": "152f6e97",
   "metadata": {
    "ExecuteTime": {
     "end_time": "2023-03-20T15:52:49.387621Z",
     "start_time": "2023-03-20T15:52:48.476366Z"
    }
   },
   "outputs": [
    {
     "name": "stderr",
     "output_type": "stream",
     "text": [
      "100%|██████████| 1/1 [00:00<00:00,  1.15it/s]"
     ]
    },
    {
     "name": "stdout",
     "output_type": "stream",
     "text": [
      "Query instance (original outcome : 0)\n"
     ]
    },
    {
     "name": "stderr",
     "output_type": "stream",
     "text": [
      "\n"
     ]
    },
    {
     "data": {
      "text/html": [
       "<div>\n",
       "<style scoped>\n",
       "    .dataframe tbody tr th:only-of-type {\n",
       "        vertical-align: middle;\n",
       "    }\n",
       "\n",
       "    .dataframe tbody tr th {\n",
       "        vertical-align: top;\n",
       "    }\n",
       "\n",
       "    .dataframe thead th {\n",
       "        text-align: right;\n",
       "    }\n",
       "</style>\n",
       "<table border=\"1\" class=\"dataframe\">\n",
       "  <thead>\n",
       "    <tr style=\"text-align: right;\">\n",
       "      <th></th>\n",
       "      <th>administrative</th>\n",
       "      <th>administrative_duration</th>\n",
       "      <th>informational</th>\n",
       "      <th>informational_duration</th>\n",
       "      <th>product_related</th>\n",
       "      <th>product_related_duration</th>\n",
       "      <th>bounce_rates</th>\n",
       "      <th>exit_rates</th>\n",
       "      <th>page_values</th>\n",
       "      <th>special_day</th>\n",
       "      <th>...</th>\n",
       "      <th>traffic_type_14</th>\n",
       "      <th>traffic_type_15</th>\n",
       "      <th>traffic_type_16</th>\n",
       "      <th>traffic_type_17</th>\n",
       "      <th>traffic_type_18</th>\n",
       "      <th>traffic_type_19</th>\n",
       "      <th>traffic_type_20</th>\n",
       "      <th>visitor_type_Other</th>\n",
       "      <th>visitor_type_Returning_Visitor</th>\n",
       "      <th>revenue</th>\n",
       "    </tr>\n",
       "  </thead>\n",
       "  <tbody>\n",
       "    <tr>\n",
       "      <th>0</th>\n",
       "      <td>0.0</td>\n",
       "      <td>0.0</td>\n",
       "      <td>0.0</td>\n",
       "      <td>0.0</td>\n",
       "      <td>4.0</td>\n",
       "      <td>66.0</td>\n",
       "      <td>0.0</td>\n",
       "      <td>0.025</td>\n",
       "      <td>0.0</td>\n",
       "      <td>0.0</td>\n",
       "      <td>...</td>\n",
       "      <td>0.0</td>\n",
       "      <td>0.0</td>\n",
       "      <td>0.0</td>\n",
       "      <td>0.0</td>\n",
       "      <td>0.0</td>\n",
       "      <td>0.0</td>\n",
       "      <td>0.0</td>\n",
       "      <td>0.0</td>\n",
       "      <td>1.0</td>\n",
       "      <td>0</td>\n",
       "    </tr>\n",
       "  </tbody>\n",
       "</table>\n",
       "<p>1 rows × 69 columns</p>\n",
       "</div>"
      ],
      "text/plain": [
       "   administrative  administrative_duration  informational  \\\n",
       "0             0.0                      0.0            0.0   \n",
       "\n",
       "   informational_duration  product_related  product_related_duration  \\\n",
       "0                     0.0              4.0                      66.0   \n",
       "\n",
       "   bounce_rates  exit_rates  page_values  special_day  ...  traffic_type_14  \\\n",
       "0           0.0       0.025          0.0          0.0  ...              0.0   \n",
       "\n",
       "   traffic_type_15  traffic_type_16  traffic_type_17  traffic_type_18  \\\n",
       "0              0.0              0.0              0.0              0.0   \n",
       "\n",
       "   traffic_type_19  traffic_type_20  visitor_type_Other  \\\n",
       "0              0.0              0.0                 0.0   \n",
       "\n",
       "   visitor_type_Returning_Visitor  revenue  \n",
       "0                             1.0        0  \n",
       "\n",
       "[1 rows x 69 columns]"
      ]
     },
     "metadata": {},
     "output_type": "display_data"
    },
    {
     "name": "stdout",
     "output_type": "stream",
     "text": [
      "\n",
      "Diverse Counterfactual set (new outcome: 1)\n"
     ]
    },
    {
     "data": {
      "text/html": [
       "<div>\n",
       "<style scoped>\n",
       "    .dataframe tbody tr th:only-of-type {\n",
       "        vertical-align: middle;\n",
       "    }\n",
       "\n",
       "    .dataframe tbody tr th {\n",
       "        vertical-align: top;\n",
       "    }\n",
       "\n",
       "    .dataframe thead th {\n",
       "        text-align: right;\n",
       "    }\n",
       "</style>\n",
       "<table border=\"1\" class=\"dataframe\">\n",
       "  <thead>\n",
       "    <tr style=\"text-align: right;\">\n",
       "      <th></th>\n",
       "      <th>administrative</th>\n",
       "      <th>administrative_duration</th>\n",
       "      <th>informational</th>\n",
       "      <th>informational_duration</th>\n",
       "      <th>product_related</th>\n",
       "      <th>product_related_duration</th>\n",
       "      <th>bounce_rates</th>\n",
       "      <th>exit_rates</th>\n",
       "      <th>page_values</th>\n",
       "      <th>special_day</th>\n",
       "      <th>...</th>\n",
       "      <th>traffic_type_14</th>\n",
       "      <th>traffic_type_15</th>\n",
       "      <th>traffic_type_16</th>\n",
       "      <th>traffic_type_17</th>\n",
       "      <th>traffic_type_18</th>\n",
       "      <th>traffic_type_19</th>\n",
       "      <th>traffic_type_20</th>\n",
       "      <th>visitor_type_Other</th>\n",
       "      <th>visitor_type_Returning_Visitor</th>\n",
       "      <th>revenue</th>\n",
       "    </tr>\n",
       "  </thead>\n",
       "  <tbody>\n",
       "    <tr>\n",
       "      <th>0</th>\n",
       "      <td>-</td>\n",
       "      <td>-</td>\n",
       "      <td>-</td>\n",
       "      <td>-</td>\n",
       "      <td>8.0</td>\n",
       "      <td>0.0</td>\n",
       "      <td>-</td>\n",
       "      <td>0.0</td>\n",
       "      <td>40.3</td>\n",
       "      <td>-</td>\n",
       "      <td>...</td>\n",
       "      <td>-</td>\n",
       "      <td>-</td>\n",
       "      <td>-</td>\n",
       "      <td>-</td>\n",
       "      <td>-</td>\n",
       "      <td>-</td>\n",
       "      <td>-</td>\n",
       "      <td>-</td>\n",
       "      <td>-</td>\n",
       "      <td>1.0</td>\n",
       "    </tr>\n",
       "    <tr>\n",
       "      <th>0</th>\n",
       "      <td>-</td>\n",
       "      <td>-</td>\n",
       "      <td>-</td>\n",
       "      <td>-</td>\n",
       "      <td>8.0</td>\n",
       "      <td>149.0</td>\n",
       "      <td>-</td>\n",
       "      <td>0.0</td>\n",
       "      <td>64.8</td>\n",
       "      <td>-</td>\n",
       "      <td>...</td>\n",
       "      <td>-</td>\n",
       "      <td>-</td>\n",
       "      <td>-</td>\n",
       "      <td>-</td>\n",
       "      <td>-</td>\n",
       "      <td>-</td>\n",
       "      <td>-</td>\n",
       "      <td>-</td>\n",
       "      <td>-</td>\n",
       "      <td>1.0</td>\n",
       "    </tr>\n",
       "    <tr>\n",
       "      <th>0</th>\n",
       "      <td>-</td>\n",
       "      <td>-</td>\n",
       "      <td>-</td>\n",
       "      <td>-</td>\n",
       "      <td>6.0</td>\n",
       "      <td>0.0</td>\n",
       "      <td>-</td>\n",
       "      <td>0.0</td>\n",
       "      <td>15.9</td>\n",
       "      <td>-</td>\n",
       "      <td>...</td>\n",
       "      <td>-</td>\n",
       "      <td>-</td>\n",
       "      <td>-</td>\n",
       "      <td>-</td>\n",
       "      <td>-</td>\n",
       "      <td>-</td>\n",
       "      <td>-</td>\n",
       "      <td>-</td>\n",
       "      <td>-</td>\n",
       "      <td>1.0</td>\n",
       "    </tr>\n",
       "    <tr>\n",
       "      <th>0</th>\n",
       "      <td>-</td>\n",
       "      <td>-</td>\n",
       "      <td>-</td>\n",
       "      <td>-</td>\n",
       "      <td>-</td>\n",
       "      <td>102.2</td>\n",
       "      <td>-</td>\n",
       "      <td>0.0</td>\n",
       "      <td>15.9</td>\n",
       "      <td>-</td>\n",
       "      <td>...</td>\n",
       "      <td>-</td>\n",
       "      <td>-</td>\n",
       "      <td>-</td>\n",
       "      <td>-</td>\n",
       "      <td>-</td>\n",
       "      <td>-</td>\n",
       "      <td>-</td>\n",
       "      <td>-</td>\n",
       "      <td>-</td>\n",
       "      <td>1.0</td>\n",
       "    </tr>\n",
       "    <tr>\n",
       "      <th>0</th>\n",
       "      <td>-</td>\n",
       "      <td>-</td>\n",
       "      <td>-</td>\n",
       "      <td>-</td>\n",
       "      <td>3.0</td>\n",
       "      <td>259.0</td>\n",
       "      <td>-</td>\n",
       "      <td>0.0</td>\n",
       "      <td>16.3</td>\n",
       "      <td>-</td>\n",
       "      <td>...</td>\n",
       "      <td>-</td>\n",
       "      <td>-</td>\n",
       "      <td>-</td>\n",
       "      <td>-</td>\n",
       "      <td>-</td>\n",
       "      <td>-</td>\n",
       "      <td>-</td>\n",
       "      <td>-</td>\n",
       "      <td>-</td>\n",
       "      <td>1.0</td>\n",
       "    </tr>\n",
       "  </tbody>\n",
       "</table>\n",
       "<p>5 rows × 69 columns</p>\n",
       "</div>"
      ],
      "text/plain": [
       "  administrative administrative_duration informational informational_duration  \\\n",
       "0              -                       -             -                      -   \n",
       "0              -                       -             -                      -   \n",
       "0              -                       -             -                      -   \n",
       "0              -                       -             -                      -   \n",
       "0              -                       -             -                      -   \n",
       "\n",
       "  product_related product_related_duration bounce_rates exit_rates  \\\n",
       "0             8.0                      0.0            -        0.0   \n",
       "0             8.0                    149.0            -        0.0   \n",
       "0             6.0                      0.0            -        0.0   \n",
       "0               -                    102.2            -        0.0   \n",
       "0             3.0                    259.0            -        0.0   \n",
       "\n",
       "  page_values special_day  ... traffic_type_14 traffic_type_15  \\\n",
       "0        40.3           -  ...               -               -   \n",
       "0        64.8           -  ...               -               -   \n",
       "0        15.9           -  ...               -               -   \n",
       "0        15.9           -  ...               -               -   \n",
       "0        16.3           -  ...               -               -   \n",
       "\n",
       "  traffic_type_16 traffic_type_17 traffic_type_18 traffic_type_19  \\\n",
       "0               -               -               -               -   \n",
       "0               -               -               -               -   \n",
       "0               -               -               -               -   \n",
       "0               -               -               -               -   \n",
       "0               -               -               -               -   \n",
       "\n",
       "  traffic_type_20 visitor_type_Other visitor_type_Returning_Visitor revenue  \n",
       "0               -                  -                              -     1.0  \n",
       "0               -                  -                              -     1.0  \n",
       "0               -                  -                              -     1.0  \n",
       "0               -                  -                              -     1.0  \n",
       "0               -                  -                              -     1.0  \n",
       "\n",
       "[5 rows x 69 columns]"
      ]
     },
     "metadata": {},
     "output_type": "display_data"
    }
   ],
   "source": [
    "# Generate counterfactual explanations for a sample Returning visitor\n",
    "cf_loc2 = c2_dice_exp.generate_counterfactuals(\n",
    "                    c2_sample, \n",
    "                    total_CFs=5,\n",
    "                    desired_class='opposite',\n",
    "                    features_to_vary=actionable_cols #list(set(actionable_cols) - set(['page_values'])) \n",
    "                  )\n",
    "cf_loc2.visualize_as_dataframe(show_only_changes=True)"
   ]
  },
  {
   "cell_type": "markdown",
   "id": "3e74d712",
   "metadata": {},
   "source": [
    "**Scenario 3: New visitor**"
   ]
  },
  {
   "cell_type": "code",
   "execution_count": 39,
   "id": "a97682ca",
   "metadata": {
    "ExecuteTime": {
     "end_time": "2023-03-20T15:52:49.451857Z",
     "start_time": "2023-03-20T15:52:49.389915Z"
    }
   },
   "outputs": [
    {
     "name": "stdout",
     "output_type": "stream",
     "text": [
      "Prediction for a sample New visitor: [0]\n"
     ]
    }
   ],
   "source": [
    "c3 = df_merged_train.loc[\n",
    "                    (df_merged_train.visitor_type_Other == 0)\n",
    "                    & (df_merged_train.visitor_type_Returning_Visitor == 0)\n",
    "                  ]\n",
    "\n",
    "c3_test = x_test.loc[\n",
    "                    (x_test.visitor_type_Other == 0)\n",
    "                     & (x_test.visitor_type_Returning_Visitor == 0)\n",
    "                  ]\n",
    "\n",
    "c3_sample = c3_test.iloc[[60]]\n",
    "print(f'Prediction for a sample New visitor: {best_model.predict(c3_sample)}')\n",
    "\n",
    "# Initiate DICE explainer\n",
    "c3_dice_exp = cf_exp(best_model, c3, x_trainval.columns.tolist(), target)"
   ]
  },
  {
   "cell_type": "markdown",
   "id": "08985790",
   "metadata": {},
   "source": [
    "\n",
    "To encourage a new visitor to purchase, it's important to build trust and reduce the complexity in their user experience. To entice the new visitors to come back and increase the likelihood of a purchase, the way that personal information is collected must be as short and concise as possible, especially the on-boarding process. Though there might not be enough collected data for a user to recommend products, latest and trending products can be recommended.\n",
    "\n",
    "Other actions that can be explored by the business is to optimize the website, making it more friendly for new users. Advertisements may be useful to generate revenue from new visitors Moreover, ensuring cybersecurity may also help in locking in new visitors to return."
   ]
  },
  {
   "cell_type": "code",
   "execution_count": 40,
   "id": "24bedb11",
   "metadata": {
    "ExecuteTime": {
     "end_time": "2023-03-20T15:53:25.039532Z",
     "start_time": "2023-03-20T15:52:49.453807Z"
    }
   },
   "outputs": [
    {
     "name": "stderr",
     "output_type": "stream",
     "text": [
      "100%|██████████| 1/1 [00:35<00:00, 35.54s/it]"
     ]
    },
    {
     "name": "stdout",
     "output_type": "stream",
     "text": [
      "Query instance (original outcome : 0)\n"
     ]
    },
    {
     "name": "stderr",
     "output_type": "stream",
     "text": [
      "\n"
     ]
    },
    {
     "data": {
      "text/html": [
       "<div>\n",
       "<style scoped>\n",
       "    .dataframe tbody tr th:only-of-type {\n",
       "        vertical-align: middle;\n",
       "    }\n",
       "\n",
       "    .dataframe tbody tr th {\n",
       "        vertical-align: top;\n",
       "    }\n",
       "\n",
       "    .dataframe thead th {\n",
       "        text-align: right;\n",
       "    }\n",
       "</style>\n",
       "<table border=\"1\" class=\"dataframe\">\n",
       "  <thead>\n",
       "    <tr style=\"text-align: right;\">\n",
       "      <th></th>\n",
       "      <th>administrative</th>\n",
       "      <th>administrative_duration</th>\n",
       "      <th>informational</th>\n",
       "      <th>informational_duration</th>\n",
       "      <th>product_related</th>\n",
       "      <th>product_related_duration</th>\n",
       "      <th>bounce_rates</th>\n",
       "      <th>exit_rates</th>\n",
       "      <th>page_values</th>\n",
       "      <th>special_day</th>\n",
       "      <th>...</th>\n",
       "      <th>traffic_type_14</th>\n",
       "      <th>traffic_type_15</th>\n",
       "      <th>traffic_type_16</th>\n",
       "      <th>traffic_type_17</th>\n",
       "      <th>traffic_type_18</th>\n",
       "      <th>traffic_type_19</th>\n",
       "      <th>traffic_type_20</th>\n",
       "      <th>visitor_type_Other</th>\n",
       "      <th>visitor_type_Returning_Visitor</th>\n",
       "      <th>revenue</th>\n",
       "    </tr>\n",
       "  </thead>\n",
       "  <tbody>\n",
       "    <tr>\n",
       "      <th>0</th>\n",
       "      <td>0.0</td>\n",
       "      <td>0.0</td>\n",
       "      <td>3.0</td>\n",
       "      <td>101.0</td>\n",
       "      <td>7.0</td>\n",
       "      <td>208.5</td>\n",
       "      <td>0.0</td>\n",
       "      <td>0.025</td>\n",
       "      <td>0.0</td>\n",
       "      <td>0.0</td>\n",
       "      <td>...</td>\n",
       "      <td>0.0</td>\n",
       "      <td>0.0</td>\n",
       "      <td>0.0</td>\n",
       "      <td>0.0</td>\n",
       "      <td>0.0</td>\n",
       "      <td>0.0</td>\n",
       "      <td>0.0</td>\n",
       "      <td>0.0</td>\n",
       "      <td>0.0</td>\n",
       "      <td>0</td>\n",
       "    </tr>\n",
       "  </tbody>\n",
       "</table>\n",
       "<p>1 rows × 69 columns</p>\n",
       "</div>"
      ],
      "text/plain": [
       "   administrative  administrative_duration  informational  \\\n",
       "0             0.0                      0.0            3.0   \n",
       "\n",
       "   informational_duration  product_related  product_related_duration  \\\n",
       "0                   101.0              7.0                     208.5   \n",
       "\n",
       "   bounce_rates  exit_rates  page_values  special_day  ...  traffic_type_14  \\\n",
       "0           0.0       0.025          0.0          0.0  ...              0.0   \n",
       "\n",
       "   traffic_type_15  traffic_type_16  traffic_type_17  traffic_type_18  \\\n",
       "0              0.0              0.0              0.0              0.0   \n",
       "\n",
       "   traffic_type_19  traffic_type_20  visitor_type_Other  \\\n",
       "0              0.0              0.0                 0.0   \n",
       "\n",
       "   visitor_type_Returning_Visitor  revenue  \n",
       "0                             0.0        0  \n",
       "\n",
       "[1 rows x 69 columns]"
      ]
     },
     "metadata": {},
     "output_type": "display_data"
    },
    {
     "name": "stdout",
     "output_type": "stream",
     "text": [
      "\n",
      "Diverse Counterfactual set (new outcome: 1)\n"
     ]
    },
    {
     "data": {
      "text/html": [
       "<div>\n",
       "<style scoped>\n",
       "    .dataframe tbody tr th:only-of-type {\n",
       "        vertical-align: middle;\n",
       "    }\n",
       "\n",
       "    .dataframe tbody tr th {\n",
       "        vertical-align: top;\n",
       "    }\n",
       "\n",
       "    .dataframe thead th {\n",
       "        text-align: right;\n",
       "    }\n",
       "</style>\n",
       "<table border=\"1\" class=\"dataframe\">\n",
       "  <thead>\n",
       "    <tr style=\"text-align: right;\">\n",
       "      <th></th>\n",
       "      <th>administrative</th>\n",
       "      <th>administrative_duration</th>\n",
       "      <th>informational</th>\n",
       "      <th>informational_duration</th>\n",
       "      <th>product_related</th>\n",
       "      <th>product_related_duration</th>\n",
       "      <th>bounce_rates</th>\n",
       "      <th>exit_rates</th>\n",
       "      <th>page_values</th>\n",
       "      <th>special_day</th>\n",
       "      <th>...</th>\n",
       "      <th>traffic_type_14</th>\n",
       "      <th>traffic_type_15</th>\n",
       "      <th>traffic_type_16</th>\n",
       "      <th>traffic_type_17</th>\n",
       "      <th>traffic_type_18</th>\n",
       "      <th>traffic_type_19</th>\n",
       "      <th>traffic_type_20</th>\n",
       "      <th>visitor_type_Other</th>\n",
       "      <th>visitor_type_Returning_Visitor</th>\n",
       "      <th>revenue</th>\n",
       "    </tr>\n",
       "  </thead>\n",
       "  <tbody>\n",
       "    <tr>\n",
       "      <th>0</th>\n",
       "      <td>6.0</td>\n",
       "      <td>100.1</td>\n",
       "      <td>0.0</td>\n",
       "      <td>0.0</td>\n",
       "      <td>4.0</td>\n",
       "      <td>60.4</td>\n",
       "      <td>-</td>\n",
       "      <td>0.022</td>\n",
       "      <td>-</td>\n",
       "      <td>-</td>\n",
       "      <td>...</td>\n",
       "      <td>-</td>\n",
       "      <td>-</td>\n",
       "      <td>-</td>\n",
       "      <td>-</td>\n",
       "      <td>-</td>\n",
       "      <td>-</td>\n",
       "      <td>-</td>\n",
       "      <td>-</td>\n",
       "      <td>-</td>\n",
       "      <td>1.0</td>\n",
       "    </tr>\n",
       "    <tr>\n",
       "      <th>0</th>\n",
       "      <td>4.0</td>\n",
       "      <td>43.5</td>\n",
       "      <td>0.0</td>\n",
       "      <td>0.0</td>\n",
       "      <td>4.0</td>\n",
       "      <td>27.3</td>\n",
       "      <td>-</td>\n",
       "      <td>0.029</td>\n",
       "      <td>-</td>\n",
       "      <td>-</td>\n",
       "      <td>...</td>\n",
       "      <td>-</td>\n",
       "      <td>-</td>\n",
       "      <td>-</td>\n",
       "      <td>-</td>\n",
       "      <td>-</td>\n",
       "      <td>-</td>\n",
       "      <td>-</td>\n",
       "      <td>-</td>\n",
       "      <td>-</td>\n",
       "      <td>1.0</td>\n",
       "    </tr>\n",
       "    <tr>\n",
       "      <th>0</th>\n",
       "      <td>5.0</td>\n",
       "      <td>31.7</td>\n",
       "      <td>-</td>\n",
       "      <td>239.2</td>\n",
       "      <td>3.0</td>\n",
       "      <td>78.5</td>\n",
       "      <td>-</td>\n",
       "      <td>0.008</td>\n",
       "      <td>-</td>\n",
       "      <td>-</td>\n",
       "      <td>...</td>\n",
       "      <td>-</td>\n",
       "      <td>-</td>\n",
       "      <td>-</td>\n",
       "      <td>-</td>\n",
       "      <td>-</td>\n",
       "      <td>-</td>\n",
       "      <td>-</td>\n",
       "      <td>-</td>\n",
       "      <td>-</td>\n",
       "      <td>1.0</td>\n",
       "    </tr>\n",
       "    <tr>\n",
       "      <th>0</th>\n",
       "      <td>2.0</td>\n",
       "      <td>24.2</td>\n",
       "      <td>0.0</td>\n",
       "      <td>0.0</td>\n",
       "      <td>3.0</td>\n",
       "      <td>52.4</td>\n",
       "      <td>-</td>\n",
       "      <td>0.04</td>\n",
       "      <td>-</td>\n",
       "      <td>-</td>\n",
       "      <td>...</td>\n",
       "      <td>-</td>\n",
       "      <td>-</td>\n",
       "      <td>-</td>\n",
       "      <td>-</td>\n",
       "      <td>-</td>\n",
       "      <td>-</td>\n",
       "      <td>-</td>\n",
       "      <td>-</td>\n",
       "      <td>-</td>\n",
       "      <td>1.0</td>\n",
       "    </tr>\n",
       "    <tr>\n",
       "      <th>0</th>\n",
       "      <td>4.0</td>\n",
       "      <td>70.5</td>\n",
       "      <td>0.0</td>\n",
       "      <td>0.0</td>\n",
       "      <td>3.0</td>\n",
       "      <td>51.3</td>\n",
       "      <td>-</td>\n",
       "      <td>0.01</td>\n",
       "      <td>-</td>\n",
       "      <td>-</td>\n",
       "      <td>...</td>\n",
       "      <td>-</td>\n",
       "      <td>-</td>\n",
       "      <td>-</td>\n",
       "      <td>-</td>\n",
       "      <td>-</td>\n",
       "      <td>-</td>\n",
       "      <td>-</td>\n",
       "      <td>-</td>\n",
       "      <td>-</td>\n",
       "      <td>1.0</td>\n",
       "    </tr>\n",
       "    <tr>\n",
       "      <th>0</th>\n",
       "      <td>2.0</td>\n",
       "      <td>36.4</td>\n",
       "      <td>0.0</td>\n",
       "      <td>0.0</td>\n",
       "      <td>3.0</td>\n",
       "      <td>28.2</td>\n",
       "      <td>-</td>\n",
       "      <td>0.0</td>\n",
       "      <td>-</td>\n",
       "      <td>-</td>\n",
       "      <td>...</td>\n",
       "      <td>-</td>\n",
       "      <td>-</td>\n",
       "      <td>-</td>\n",
       "      <td>-</td>\n",
       "      <td>-</td>\n",
       "      <td>-</td>\n",
       "      <td>-</td>\n",
       "      <td>-</td>\n",
       "      <td>-</td>\n",
       "      <td>1.0</td>\n",
       "    </tr>\n",
       "    <tr>\n",
       "      <th>0</th>\n",
       "      <td>2.0</td>\n",
       "      <td>4.0</td>\n",
       "      <td>0.0</td>\n",
       "      <td>0.0</td>\n",
       "      <td>2.0</td>\n",
       "      <td>44.4</td>\n",
       "      <td>-</td>\n",
       "      <td>0.05</td>\n",
       "      <td>-</td>\n",
       "      <td>-</td>\n",
       "      <td>...</td>\n",
       "      <td>-</td>\n",
       "      <td>-</td>\n",
       "      <td>-</td>\n",
       "      <td>-</td>\n",
       "      <td>-</td>\n",
       "      <td>-</td>\n",
       "      <td>-</td>\n",
       "      <td>-</td>\n",
       "      <td>-</td>\n",
       "      <td>1.0</td>\n",
       "    </tr>\n",
       "  </tbody>\n",
       "</table>\n",
       "<p>7 rows × 69 columns</p>\n",
       "</div>"
      ],
      "text/plain": [
       "  administrative administrative_duration informational informational_duration  \\\n",
       "0            6.0                   100.1           0.0                    0.0   \n",
       "0            4.0                    43.5           0.0                    0.0   \n",
       "0            5.0                    31.7             -                  239.2   \n",
       "0            2.0                    24.2           0.0                    0.0   \n",
       "0            4.0                    70.5           0.0                    0.0   \n",
       "0            2.0                    36.4           0.0                    0.0   \n",
       "0            2.0                     4.0           0.0                    0.0   \n",
       "\n",
       "  product_related product_related_duration bounce_rates exit_rates  \\\n",
       "0             4.0                     60.4            -      0.022   \n",
       "0             4.0                     27.3            -      0.029   \n",
       "0             3.0                     78.5            -      0.008   \n",
       "0             3.0                     52.4            -       0.04   \n",
       "0             3.0                     51.3            -       0.01   \n",
       "0             3.0                     28.2            -        0.0   \n",
       "0             2.0                     44.4            -       0.05   \n",
       "\n",
       "  page_values special_day  ... traffic_type_14 traffic_type_15  \\\n",
       "0           -           -  ...               -               -   \n",
       "0           -           -  ...               -               -   \n",
       "0           -           -  ...               -               -   \n",
       "0           -           -  ...               -               -   \n",
       "0           -           -  ...               -               -   \n",
       "0           -           -  ...               -               -   \n",
       "0           -           -  ...               -               -   \n",
       "\n",
       "  traffic_type_16 traffic_type_17 traffic_type_18 traffic_type_19  \\\n",
       "0               -               -               -               -   \n",
       "0               -               -               -               -   \n",
       "0               -               -               -               -   \n",
       "0               -               -               -               -   \n",
       "0               -               -               -               -   \n",
       "0               -               -               -               -   \n",
       "0               -               -               -               -   \n",
       "\n",
       "  traffic_type_20 visitor_type_Other visitor_type_Returning_Visitor revenue  \n",
       "0               -                  -                              -     1.0  \n",
       "0               -                  -                              -     1.0  \n",
       "0               -                  -                              -     1.0  \n",
       "0               -                  -                              -     1.0  \n",
       "0               -                  -                              -     1.0  \n",
       "0               -                  -                              -     1.0  \n",
       "0               -                  -                              -     1.0  \n",
       "\n",
       "[7 rows x 69 columns]"
      ]
     },
     "metadata": {},
     "output_type": "display_data"
    }
   ],
   "source": [
    "# Generate counterfactual explanations for a sample New visitor\n",
    "cf_loc3 = c3_dice_exp.generate_counterfactuals(\n",
    "                    c3_sample,\n",
    "                    total_CFs=10,\n",
    "                    desired_class='opposite',\n",
    "                    features_to_vary= list(set(actionable_cols) - set(['page_values']))\n",
    "                  )\n",
    "cf_loc3.visualize_as_dataframe(show_only_changes=True)"
   ]
  },
  {
   "cell_type": "markdown",
   "id": "390335bd",
   "metadata": {},
   "source": [
    "***\n",
    "\n",
    "<h1 style=\"color: #1048CB\"><b>VIII. Recommendations</b></h1>"
   ]
  },
  {
   "cell_type": "markdown",
   "id": "cffba8df",
   "metadata": {},
   "source": [
    "***\n",
    "\n",
    "**For seasonal customers**\n",
    "\n",
    "<p style=\"text-align: justify\"> &emsp; Optimize product pages and employ recommendation systems to help visitors find what they want or even something better. By making it more straightforward for customers to identify the products they are interested in and even discover new ones they might not have known they wanted, the advice to optimize product pages and use recommendation systems is meant to help businesses increase their online sales. Ensuring that each page's content is persuasive, pertinent, and understandable is critical to optimizing product pages. </p>\n",
    "\n",
    "**For non-seasonal, returning customers**\n",
    "\n",
    "<p style=\"text-align: justify\"> &emsp;Implementation of Nudge Marketing, which uses subtle prompts that encourage customers to complete their purchase. Nudge marketing seeks to affect consumer behavior without coming out as unduly forceful or manipulative. Instead, it uses subtly persuasive techniques to persuade visitors to take the intended action, such as purchasing or subscribing to a newsletter. An example of nudge marketing is showing how many customers are currently looking at the same product and how many have purchased in the past x number of hours. </p>\n",
    "\n",
    "**For new visitors**\n",
    "\n",
    "<p style=\"text-align: justify\"> &emsp;Provide new customer discounts to spur purchases. Increase new visitor traffic through referrals from \"loyal\" or returning visitors. New customers, especially those unfamiliar with the shop, are generally more hesitant to complete a purchase, even if they are acquainted with the products being sold. New customers can be incentivized with discount coupons to lessen the friction of buying and make the initial purchase less risky. If the buyer is delighted with their purchase, they may become a return customer, making the initial discount a good investment. </p>"
   ]
  },
  {
   "cell_type": "markdown",
   "id": "b9abfdc5",
   "metadata": {},
   "source": [
    "***\n",
    "\n",
    "<h1 style=\"color: #1048CB\"><b>IX. Limitations & Future Work</b></h1>"
   ]
  },
  {
   "cell_type": "markdown",
   "id": "6af96c18",
   "metadata": {},
   "source": [
    "***\n",
    "\n",
    "**Limited Data**\n",
    "\n",
    "<p style=\"text-align: justify\"> &emsp;The UCI Online Shoppers Purchasing Intention Dataset has some inherent limitations that restrict the analysis that can be performed. The e-commerce data is only representative of a single online shop. While the study may benefit the shop, it may not cover insights applicable to other online shops or the industry. In addition, the dataset only spans less than a year. As such, it does not capture temporal aspects related to other months of the year and general and current trends in e-commerce. </p>\n",
    "\n",
    "**Limited Computational Resources**\n",
    "\n",
    "<p style=\"text-align: justify\"> &emsp;Although the dataset may be limited, the project team is constrained by computational resources, limiting the team's ability to perform extensive analysis and machine learning modeling on the dataset. To handle the aforementioned imitation, the team prioritized critical aspects of the data. Considering additional computing power, the demographic data and representations can be folded into the analysis, further improving results and insights. </p>\n",
    "\n",
    "**Data collected and some insights may not be actionable**\n",
    "\n",
    "<p style=\"text-align: justify\"> &emsp;Viewing the insights and analysis from the perspective on a single e-commerce website or the wider industry, some data may not be actionable and are not indicative or relevant to consumer behavior. Administrative and Informational pages may describe the website's features but are not directly actionable for impacting consumer or user behavior. </p>"
   ]
  },
  {
   "cell_type": "markdown",
   "id": "5ca3ddac",
   "metadata": {},
   "source": [
    "***\n",
    "\n",
    "<h1 style=\"color: #1048CB\"><b>X. Conclusion</b></h1>"
   ]
  },
  {
   "cell_type": "markdown",
   "id": "ecee5c1c",
   "metadata": {},
   "source": [
    "***\n",
    "\n",
    "<p style=\"text-align: justify\"> &emsp;There are 3 main drivers that affect a customer's decision to purchase - the value of the pages visited, seasonality of the visit, and ease of search. </p>\n",
    "\n",
    "<p style=\"text-align: justify\"> &emsp;For *Seasonal visitors*, the focus is to reduce complexity in the experience and ease their search. This can be done by improving the design and usability of the pages, or implementing a recommender system for a more personalized user experience. </p>\n",
    "\n",
    "<p style=\"text-align: justify\"> &emsp;For *Non-Seasonal, Returning visitors*, it's important to increase their intent to purchase, and ease their search of relevant products. These visitors could be encouraged to convert through marketing initiatives such as Nudge, which makes use of subtle prompts as a reminder to complete their purchases. </p>\n",
    "\n",
    "<p style=\"text-align: justify\"> &emsp;Finally, for *New visitors*,  the focus should be on building trust and reducing complexity in their experience. Required personal information should be moderated for new users, and measures implemented to secure personal data and payment information should be apparent. Moreover, the onboarding process should be seamless, and relevant promotional offers could be shown but must not be overwhelming </p>\n",
    "\n",
    "<p style=\"text-align: justify\"> &emsp;Identifying these factors towards customer propensity will be a big help for e-commerce website operators. This allows them to better optimize their website design in order to maximize the likelihood of a successful transaction. These e-commerce operators can add seasonality promotions and bundles to entice the seasonal visitors and give them a reason to purchase. They can streamline the website in order to increase the user experience of returning visitors and steer them towards the products they are looking for and most likely to purchase. And on top of that, these e-commerce operators can design their website to be intuitive, easy to access, easy to join, and user-friendly for the new visitors who are curious about the e-commerce platform. </p>\n",
    "\n",
    "<p style=\"text-align: justify\"> &emsp;A fully online transaction is inherently more challenging to control since the customer holds all the power with no sales person to direct them to a possible purchase. By using the power of machine learning and explainability methods, it allows these e-commerce operators to better understand their customers and help them design better experiences. </p>"
   ]
  },
  {
   "cell_type": "markdown",
   "id": "7156cddd",
   "metadata": {},
   "source": [
    "***\n",
    "\n",
    "<h1 style=\"color: #1048CB\"><b>XI. References</b></h1>"
   ]
  },
  {
   "cell_type": "markdown",
   "id": "49ab90dc",
   "metadata": {},
   "source": [
    "[1] sklearn.preprocessing.RobustScaler. (n.d.). Scikit-learn. https://scikit-learn.org/stable/modules/generated/sklearn.preprocessing.RobustScaler.html\n",
    "\n",
    "[2] Molnar, C. (2023, March 2). 9.6 SHAP (SHapley Additive exPlanations) | Interpretable Machine Learning. https://christophm.github.io/interpretable-ml-book/shap.html\n",
    "\n",
    "[3] Donato, P., Ibañez, S., Lorenzo, L., and Verdeprado, M. (2023). Notebook 3c - Post-hoc Explainability Methods.\n",
    "\n",
    "[4] Diverse Counterfactual Explanations (DiCE) for ML — DiCE 0.9 documentation. (n.d.). http://interpret.ml/DiCE/readme.html\n",
    "\n",
    "[5] Tayib, M. A. (2021, December 16). A Step by Step Guide to Propensity to Buy Model | by M Ahmed Tayib | Medium. Medium. https://tayibgetup.medium.com/a-step-by-step-guide-to-propensity-to-buy-model-8686633f71ee\n",
    "\n",
    "[6] Noel, J. (n.d.). Why user onboarding is the most important part of the customer journey. Appcues Blog. https://www.appcues.com/blog/user-onboarding-customer-journey\n",
    "\n",
    "[7] Vuong, H. (2021, December 12). Top 10 e-commerce sites in the Philippines 2019 - Philippines Ecommerce - Medium. Medium. https://medium.com/shippo-ph/top-10-e-commerce-sites-in-the-philippines-2019-b1603e9ab019\n",
    "\n",
    "[8] Phil Gov,. (n.d.). Philippines - eCommerce. International Trade Administration | Trade.gov. https://www.trade.gov/country-commercial-guides/philippines-ecommerce\n"
   ]
  }
 ],
 "metadata": {
  "kernelspec": {
   "display_name": "Python 3 (ipykernel)",
   "language": "python",
   "name": "python3"
  },
  "language_info": {
   "codemirror_mode": {
    "name": "ipython",
    "version": 3
   },
   "file_extension": ".py",
   "mimetype": "text/x-python",
   "name": "python",
   "nbconvert_exporter": "python",
   "pygments_lexer": "ipython3",
   "version": "3.9.13"
  },
  "toc": {
   "base_numbering": 1,
   "nav_menu": {},
   "number_sections": false,
   "sideBar": true,
   "skip_h1_title": false,
   "title_cell": "Table of Contents",
   "title_sidebar": "Contents",
   "toc_cell": false,
   "toc_position": {
    "height": "calc(100% - 180px)",
    "left": "10px",
    "top": "150px",
    "width": "291.179px"
   },
   "toc_section_display": true,
   "toc_window_display": true
  }
 },
 "nbformat": 4,
 "nbformat_minor": 5
}
